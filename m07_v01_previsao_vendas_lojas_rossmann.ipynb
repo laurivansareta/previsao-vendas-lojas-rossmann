{
 "cells": [
  {
   "cell_type": "markdown",
   "id": "dcf05e47",
   "metadata": {},
   "source": [
    "# 0.0. IMPORTS"
   ]
  },
  {
   "cell_type": "code",
   "execution_count": 96,
   "id": "a99fcaf4",
   "metadata": {
    "ExecuteTime": {
     "end_time": "2022-04-24T20:58:47.954698Z",
     "start_time": "2022-04-24T20:58:47.940436Z"
    }
   },
   "outputs": [],
   "source": [
    "import pandas as pd\n",
    "import numpy as np\n",
    "import inflection\n",
    "import math\n",
    "import seaborn as sns\n",
    "import matplotlib.pyplot as plt\n",
    "import datetime\n",
    "import xgboost as xgb\n",
    "\n",
    "from IPython.display       import Image\n",
    "from IPython.core.display  import HTML\n",
    "from scipy                 import stats as ss\n",
    "from sklearn.preprocessing import RobustScaler, MinMaxScaler, LabelEncoder\n",
    "from boruta                import BorutaPy\n",
    "from sklearn.ensemble      import RandomForestRegressor\n",
    "from sklearn.metrics       import mean_absolute_error, mean_absolute_percentage_error, mean_squared_error\n",
    "from sklearn.linear_model  import LinearRegression, Lasso"
   ]
  },
  {
   "cell_type": "markdown",
   "id": "9e8b4caa",
   "metadata": {},
   "source": [
    "## 0.1. Helper Functions"
   ]
  },
  {
   "cell_type": "code",
   "execution_count": 97,
   "id": "5fd01f64",
   "metadata": {
    "ExecuteTime": {
     "end_time": "2022-04-24T20:58:47.986863Z",
     "start_time": "2022-04-24T20:58:47.956674Z"
    },
    "hide_input": false
   },
   "outputs": [],
   "source": [
    "def cramer_v( x, y ):\n",
    "    cm = pd.crosstab( x, y).values\n",
    "    \n",
    "    n = cm.sum()\n",
    "\n",
    "    r, k = cm.shape\n",
    "    \n",
    "    chi2 = ss.chi2_contingency( cm )[0]\n",
    "    chi2_corr = max( 0, chi2 - (k-1)*(r-1)/(n-1) )\n",
    "    \n",
    "    kcorr = k - (k-1)**2/(n-1)\n",
    "    rcorr = r - (r-1)**2/(n-1)\n",
    "    \n",
    "    return np.sqrt( (chi2_corr/n) / ( min( kcorr-1, rcorr-1 ) ) )\n",
    "\n",
    "def jupyter_settings():\n",
    "    %matplotlib inline\n",
    "    %pylab inline\n",
    "    \n",
    "    # Configuração do tamanho dos gráficos\n",
    "    plt.style.use( 'bmh' )\n",
    "    plt.rcParams['figure.figsize'] = [25, 12]\n",
    "    plt.rcParams['font.size'] = 24\n",
    "    \n",
    "    # Configurações para os gráficos ficarem legíveis, principalmente quando tem vários.\n",
    "    display( HTML( '<style>.container { width:100% !important; }</style>') )\n",
    "    pd.options.display.max_columns = None\n",
    "    pd.options.display.max_rows = None\n",
    "    pd.set_option( 'display.expand_frame_repr', False )\n",
    "    \n",
    "    sns.set()\n",
    "    \n",
    "def ml_error( model_name, y, yhat):\n",
    "    mae = mean_absolute_error( y, yhat )\n",
    "    mape = mean_absolute_percentage_error( y, yhat )\n",
    "    rmse = np.sqrt( mean_squared_error( y, yhat ) )\n",
    "    \n",
    "    return pd.DataFrame( { 'Model Name': model_name,\n",
    "                           'MAE': mae,\n",
    "                           'MAPE': mape,\n",
    "                           'RMSE': rmse}, index=[0] )\n",
    "\n",
    "def cross_validation( x_training, kfold, model_name, model, verbose=False ):\n",
    "    mae_list = []\n",
    "    mape_list = []\n",
    "    rmse_list = []\n",
    "    for k in reversed( range( 1, kfold+1 ) ):\n",
    "        if verbose:\n",
    "            print( '\\nKFold Number: {}'.format( k ) )\n",
    "        # start and end date for validation \n",
    "        validation_start_date = x_training['date'].max() - datetime.timedelta( days=k*6*7)\n",
    "        validation_end_date = x_training['date'].max() - datetime.timedelta( days=(k-1)*6*7)\n",
    "\n",
    "        # filtering dataset\n",
    "        training = x_training[x_training['date'] < validation_start_date]\n",
    "        validation = x_training[(x_training['date'] >= validation_start_date) & (x_training['date'] <= validation_end_date)]\n",
    "\n",
    "        # training and validation dataset\n",
    "        # training\n",
    "        xtraining = training.drop( ['date', 'sales'], axis=1 ) \n",
    "        ytraining = training['sales']\n",
    "\n",
    "        # validation\n",
    "        xvalidation = validation.drop( ['date', 'sales'], axis=1 )\n",
    "        yvalidation = validation['sales']\n",
    "\n",
    "        # model\n",
    "        m = model.fit( xtraining, ytraining )\n",
    "\n",
    "        # prediction\n",
    "        yhat = m.predict( xvalidation )\n",
    "\n",
    "        # performance\n",
    "        m_result = ml_error( model_name, np.expm1( yvalidation ), np.expm1( yhat ) )\n",
    "\n",
    "        # store performance of each kfold iteration\n",
    "        mae_list.append(  m_result['MAE'] )\n",
    "        mape_list.append( m_result['MAPE'] )\n",
    "        rmse_list.append( m_result['RMSE'] )\n",
    "\n",
    "    return pd.DataFrame( {'Model Name': model_name,\n",
    "                          'MAE CV': np.round( np.mean( mae_list ), 2 ).astype( str ) + ' +/- ' + np.round( np.std( mae_list ), 2 ).astype( str ),\n",
    "                          'MAPE CV': np.round( np.mean( mape_list ), 2 ).astype( str ) + ' +/- ' + np.round( np.std( mape_list ), 2 ).astype( str ),\n",
    "                          'RMSE CV': np.round( np.mean( rmse_list ), 2 ).astype( str ) + ' +/- ' + np.round( np.std( rmse_list ), 2 ).astype( str ) }, index=[0] )\n",
    "\n"
   ]
  },
  {
   "cell_type": "code",
   "execution_count": 98,
   "id": "9eda6ec0",
   "metadata": {
    "ExecuteTime": {
     "end_time": "2022-04-24T20:58:48.096320Z",
     "start_time": "2022-04-24T20:58:47.987863Z"
    }
   },
   "outputs": [
    {
     "name": "stdout",
     "output_type": "stream",
     "text": [
      "Populating the interactive namespace from numpy and matplotlib\n"
     ]
    },
    {
     "name": "stderr",
     "output_type": "stream",
     "text": [
      "E:\\Programas\\instalacao\\anaconda3\\envs\\dsEmProducaoEnv\\lib\\site-packages\\IPython\\core\\magics\\pylab.py:159: UserWarning: pylab import has clobbered these variables: ['grid']\n",
      "`%matplotlib` prevents importing * from pylab and numpy\n",
      "  warn(\"pylab import has clobbered these variables: %s\"  % clobbered +\n"
     ]
    },
    {
     "data": {
      "text/html": [
       "<style>.container { width:100% !important; }</style>"
      ],
      "text/plain": [
       "<IPython.core.display.HTML object>"
      ]
     },
     "metadata": {},
     "output_type": "display_data"
    }
   ],
   "source": [
    "jupyter_settings()"
   ]
  },
  {
   "cell_type": "markdown",
   "id": "81cec8d9",
   "metadata": {},
   "source": [
    "## 0.2. Loading Data"
   ]
  },
  {
   "cell_type": "code",
   "execution_count": 99,
   "id": "90951ab4",
   "metadata": {
    "ExecuteTime": {
     "end_time": "2022-04-24T20:58:49.138749Z",
     "start_time": "2022-04-24T20:58:48.097833Z"
    }
   },
   "outputs": [],
   "source": [
    "df_sales_raw = pd.read_csv('dados/train.csv', low_memory=False)\n",
    "df_store_raw = pd.read_csv('dados/store.csv', low_memory=False)\n",
    "\n",
    "df_row = pd.merge( df_sales_raw, df_store_raw, how='left', on='Store' )"
   ]
  },
  {
   "cell_type": "code",
   "execution_count": 100,
   "id": "d16851fc",
   "metadata": {
    "ExecuteTime": {
     "end_time": "2022-04-24T20:58:49.308934Z",
     "start_time": "2022-04-24T20:58:49.140746Z"
    }
   },
   "outputs": [
    {
     "data": {
      "text/html": [
       "<div>\n",
       "<style scoped>\n",
       "    .dataframe tbody tr th:only-of-type {\n",
       "        vertical-align: middle;\n",
       "    }\n",
       "\n",
       "    .dataframe tbody tr th {\n",
       "        vertical-align: top;\n",
       "    }\n",
       "\n",
       "    .dataframe thead th {\n",
       "        text-align: right;\n",
       "    }\n",
       "</style>\n",
       "<table border=\"1\" class=\"dataframe\">\n",
       "  <thead>\n",
       "    <tr style=\"text-align: right;\">\n",
       "      <th></th>\n",
       "      <th>Store</th>\n",
       "      <th>DayOfWeek</th>\n",
       "      <th>Date</th>\n",
       "      <th>Sales</th>\n",
       "      <th>Customers</th>\n",
       "      <th>Open</th>\n",
       "      <th>Promo</th>\n",
       "      <th>StateHoliday</th>\n",
       "      <th>SchoolHoliday</th>\n",
       "      <th>StoreType</th>\n",
       "      <th>Assortment</th>\n",
       "      <th>CompetitionDistance</th>\n",
       "      <th>CompetitionOpenSinceMonth</th>\n",
       "      <th>CompetitionOpenSinceYear</th>\n",
       "      <th>Promo2</th>\n",
       "      <th>Promo2SinceWeek</th>\n",
       "      <th>Promo2SinceYear</th>\n",
       "      <th>PromoInterval</th>\n",
       "    </tr>\n",
       "  </thead>\n",
       "  <tbody>\n",
       "    <tr>\n",
       "      <th>637358</th>\n",
       "      <td>364</td>\n",
       "      <td>6</td>\n",
       "      <td>2013-12-07</td>\n",
       "      <td>3030</td>\n",
       "      <td>366</td>\n",
       "      <td>1</td>\n",
       "      <td>0</td>\n",
       "      <td>0</td>\n",
       "      <td>0</td>\n",
       "      <td>a</td>\n",
       "      <td>c</td>\n",
       "      <td>13620.0</td>\n",
       "      <td>NaN</td>\n",
       "      <td>NaN</td>\n",
       "      <td>1</td>\n",
       "      <td>10.0</td>\n",
       "      <td>2014.0</td>\n",
       "      <td>Mar,Jun,Sept,Dec</td>\n",
       "    </tr>\n",
       "  </tbody>\n",
       "</table>\n",
       "</div>"
      ],
      "text/plain": [
       "        Store  DayOfWeek        Date  Sales  Customers  Open  Promo StateHoliday  SchoolHoliday StoreType Assortment  CompetitionDistance  CompetitionOpenSinceMonth  CompetitionOpenSinceYear  Promo2  Promo2SinceWeek  Promo2SinceYear     PromoInterval\n",
       "637358    364          6  2013-12-07   3030        366     1      0            0              0         a          c              13620.0                        NaN                       NaN       1             10.0           2014.0  Mar,Jun,Sept,Dec"
      ]
     },
     "execution_count": 100,
     "metadata": {},
     "output_type": "execute_result"
    }
   ],
   "source": [
    "df_row.sample()"
   ]
  },
  {
   "cell_type": "markdown",
   "id": "0e9a17b6",
   "metadata": {},
   "source": [
    "# 1.0. PASSO 01 - DESCRIÇÃO DOS DADOS"
   ]
  },
  {
   "cell_type": "code",
   "execution_count": 101,
   "id": "fcb1f496",
   "metadata": {
    "ExecuteTime": {
     "end_time": "2022-04-24T20:58:49.372872Z",
     "start_time": "2022-04-24T20:58:49.310931Z"
    }
   },
   "outputs": [],
   "source": [
    "df1 = df_row.copy()"
   ]
  },
  {
   "cell_type": "markdown",
   "id": "afdfbed2",
   "metadata": {},
   "source": [
    "## 1.1. Rename Columns"
   ]
  },
  {
   "cell_type": "code",
   "execution_count": 102,
   "id": "5cebbaa3",
   "metadata": {
    "ExecuteTime": {
     "end_time": "2022-04-24T20:58:49.388146Z",
     "start_time": "2022-04-24T20:58:49.374667Z"
    }
   },
   "outputs": [],
   "source": [
    "cols_old = ['Store', 'DayOfWeek', 'Date', 'Sales', 'Customers', 'Open', 'Promo',\n",
    "       'StateHoliday', 'SchoolHoliday', 'StoreType', 'Assortment',\n",
    "       'CompetitionDistance', 'CompetitionOpenSinceMonth',\n",
    "       'CompetitionOpenSinceYear', 'Promo2', 'Promo2SinceWeek',\n",
    "       'Promo2SinceYear', 'PromoInterval']\n",
    "\n",
    "snakecase = lambda x: inflection.underscore( x )\n",
    "\n",
    "cols_new = list( map( snakecase, cols_old))\n",
    "\n",
    "df1.columns = cols_new"
   ]
  },
  {
   "cell_type": "markdown",
   "id": "c2e04cf9",
   "metadata": {},
   "source": [
    "## 1.2. Data Dimension"
   ]
  },
  {
   "cell_type": "code",
   "execution_count": 103,
   "id": "fd50fb54",
   "metadata": {
    "ExecuteTime": {
     "end_time": "2022-04-24T20:58:49.403474Z",
     "start_time": "2022-04-24T20:58:49.389096Z"
    }
   },
   "outputs": [
    {
     "name": "stdout",
     "output_type": "stream",
     "text": [
      "Número de Linhas: 1017209\n",
      "Número de Colunas: 18\n"
     ]
    }
   ],
   "source": [
    "print( 'Número de Linhas: {}'.format(df1.shape[0] ) )\n",
    "print( 'Número de Colunas: {}'.format(df1.shape[1] ) )"
   ]
  },
  {
   "cell_type": "markdown",
   "id": "fb35d489",
   "metadata": {},
   "source": [
    "## 1.3. Data Types"
   ]
  },
  {
   "cell_type": "code",
   "execution_count": 104,
   "id": "d7419b0e",
   "metadata": {
    "ExecuteTime": {
     "end_time": "2022-04-24T20:58:49.527286Z",
     "start_time": "2022-04-24T20:58:49.404436Z"
    }
   },
   "outputs": [
    {
     "data": {
      "text/plain": [
       "store                                    int64\n",
       "day_of_week                              int64\n",
       "date                            datetime64[ns]\n",
       "sales                                    int64\n",
       "customers                                int64\n",
       "open                                     int64\n",
       "promo                                    int64\n",
       "state_holiday                           object\n",
       "school_holiday                           int64\n",
       "store_type                              object\n",
       "assortment                              object\n",
       "competition_distance                   float64\n",
       "competition_open_since_month           float64\n",
       "competition_open_since_year            float64\n",
       "promo2                                   int64\n",
       "promo2_since_week                      float64\n",
       "promo2_since_year                      float64\n",
       "promo_interval                          object\n",
       "dtype: object"
      ]
     },
     "execution_count": 104,
     "metadata": {},
     "output_type": "execute_result"
    }
   ],
   "source": [
    "df1['date'] = pd.to_datetime( df1['date'] )\n",
    "df1.dtypes"
   ]
  },
  {
   "cell_type": "markdown",
   "id": "4d3a1be5",
   "metadata": {},
   "source": [
    "## 1.4. Check NA"
   ]
  },
  {
   "cell_type": "code",
   "execution_count": 105,
   "id": "b33700de",
   "metadata": {
    "ExecuteTime": {
     "end_time": "2022-04-24T20:58:49.701279Z",
     "start_time": "2022-04-24T20:58:49.530246Z"
    }
   },
   "outputs": [
    {
     "data": {
      "text/plain": [
       "store                                0\n",
       "day_of_week                          0\n",
       "date                                 0\n",
       "sales                                0\n",
       "customers                            0\n",
       "open                                 0\n",
       "promo                                0\n",
       "state_holiday                        0\n",
       "school_holiday                       0\n",
       "store_type                           0\n",
       "assortment                           0\n",
       "competition_distance              2642\n",
       "competition_open_since_month    323348\n",
       "competition_open_since_year     323348\n",
       "promo2                               0\n",
       "promo2_since_week               508031\n",
       "promo2_since_year               508031\n",
       "promo_interval                  508031\n",
       "dtype: int64"
      ]
     },
     "execution_count": 105,
     "metadata": {},
     "output_type": "execute_result"
    }
   ],
   "source": [
    "df1.isna().sum()"
   ]
  },
  {
   "cell_type": "markdown",
   "id": "45622d3a",
   "metadata": {},
   "source": [
    "## 1.5. Fillout NA"
   ]
  },
  {
   "cell_type": "code",
   "execution_count": 106,
   "id": "b1fccd02",
   "metadata": {
    "ExecuteTime": {
     "end_time": "2022-04-24T20:59:39.945942Z",
     "start_time": "2022-04-24T20:58:49.703274Z"
    }
   },
   "outputs": [
    {
     "ename": "KeyboardInterrupt",
     "evalue": "",
     "output_type": "error",
     "traceback": [
      "\u001b[1;31m---------------------------------------------------------------------------\u001b[0m",
      "\u001b[1;31mKeyboardInterrupt\u001b[0m                         Traceback (most recent call last)",
      "\u001b[1;32m~\\AppData\\Local\\Temp/ipykernel_18280/850945191.py\u001b[0m in \u001b[0;36m<module>\u001b[1;34m\u001b[0m\n\u001b[0;32m      9\u001b[0m \u001b[1;33m\u001b[0m\u001b[0m\n\u001b[0;32m     10\u001b[0m \u001b[1;31m# promo2_since_week\u001b[0m\u001b[1;33m\u001b[0m\u001b[1;33m\u001b[0m\u001b[1;33m\u001b[0m\u001b[0m\n\u001b[1;32m---> 11\u001b[1;33m \u001b[0mdf1\u001b[0m\u001b[1;33m[\u001b[0m\u001b[1;34m'promo2_since_week'\u001b[0m\u001b[1;33m]\u001b[0m \u001b[1;33m=\u001b[0m \u001b[0mdf1\u001b[0m\u001b[1;33m.\u001b[0m\u001b[0mapply\u001b[0m\u001b[1;33m(\u001b[0m \u001b[1;32mlambda\u001b[0m \u001b[0mx\u001b[0m\u001b[1;33m:\u001b[0m \u001b[0mx\u001b[0m\u001b[1;33m[\u001b[0m\u001b[1;34m'date'\u001b[0m\u001b[1;33m]\u001b[0m\u001b[1;33m.\u001b[0m\u001b[0mweek\u001b[0m \u001b[1;32mif\u001b[0m \u001b[0mmath\u001b[0m\u001b[1;33m.\u001b[0m\u001b[0misnan\u001b[0m\u001b[1;33m(\u001b[0m \u001b[0mx\u001b[0m\u001b[1;33m[\u001b[0m\u001b[1;34m'promo2_since_week'\u001b[0m\u001b[1;33m]\u001b[0m \u001b[1;33m)\u001b[0m \u001b[1;32melse\u001b[0m \u001b[0mx\u001b[0m\u001b[1;33m[\u001b[0m\u001b[1;34m'promo2_since_week'\u001b[0m\u001b[1;33m]\u001b[0m\u001b[1;33m,\u001b[0m \u001b[0maxis\u001b[0m\u001b[1;33m=\u001b[0m\u001b[1;36m1\u001b[0m \u001b[1;33m)\u001b[0m\u001b[1;33m\u001b[0m\u001b[1;33m\u001b[0m\u001b[0m\n\u001b[0m\u001b[0;32m     12\u001b[0m \u001b[1;33m\u001b[0m\u001b[0m\n\u001b[0;32m     13\u001b[0m \u001b[1;31m# promo2_since_year\u001b[0m\u001b[1;33m\u001b[0m\u001b[1;33m\u001b[0m\u001b[1;33m\u001b[0m\u001b[0m\n",
      "\u001b[1;32mE:\\Programas\\instalacao\\anaconda3\\envs\\dsEmProducaoEnv\\lib\\site-packages\\pandas\\core\\frame.py\u001b[0m in \u001b[0;36mapply\u001b[1;34m(self, func, axis, raw, result_type, args, **kwargs)\u001b[0m\n\u001b[0;32m   8738\u001b[0m             \u001b[0mkwargs\u001b[0m\u001b[1;33m=\u001b[0m\u001b[0mkwargs\u001b[0m\u001b[1;33m,\u001b[0m\u001b[1;33m\u001b[0m\u001b[1;33m\u001b[0m\u001b[0m\n\u001b[0;32m   8739\u001b[0m         )\n\u001b[1;32m-> 8740\u001b[1;33m         \u001b[1;32mreturn\u001b[0m \u001b[0mop\u001b[0m\u001b[1;33m.\u001b[0m\u001b[0mapply\u001b[0m\u001b[1;33m(\u001b[0m\u001b[1;33m)\u001b[0m\u001b[1;33m\u001b[0m\u001b[1;33m\u001b[0m\u001b[0m\n\u001b[0m\u001b[0;32m   8741\u001b[0m \u001b[1;33m\u001b[0m\u001b[0m\n\u001b[0;32m   8742\u001b[0m     def applymap(\n",
      "\u001b[1;32mE:\\Programas\\instalacao\\anaconda3\\envs\\dsEmProducaoEnv\\lib\\site-packages\\pandas\\core\\apply.py\u001b[0m in \u001b[0;36mapply\u001b[1;34m(self)\u001b[0m\n\u001b[0;32m    686\u001b[0m             \u001b[1;32mreturn\u001b[0m \u001b[0mself\u001b[0m\u001b[1;33m.\u001b[0m\u001b[0mapply_raw\u001b[0m\u001b[1;33m(\u001b[0m\u001b[1;33m)\u001b[0m\u001b[1;33m\u001b[0m\u001b[1;33m\u001b[0m\u001b[0m\n\u001b[0;32m    687\u001b[0m \u001b[1;33m\u001b[0m\u001b[0m\n\u001b[1;32m--> 688\u001b[1;33m         \u001b[1;32mreturn\u001b[0m \u001b[0mself\u001b[0m\u001b[1;33m.\u001b[0m\u001b[0mapply_standard\u001b[0m\u001b[1;33m(\u001b[0m\u001b[1;33m)\u001b[0m\u001b[1;33m\u001b[0m\u001b[1;33m\u001b[0m\u001b[0m\n\u001b[0m\u001b[0;32m    689\u001b[0m \u001b[1;33m\u001b[0m\u001b[0m\n\u001b[0;32m    690\u001b[0m     \u001b[1;32mdef\u001b[0m \u001b[0magg\u001b[0m\u001b[1;33m(\u001b[0m\u001b[0mself\u001b[0m\u001b[1;33m)\u001b[0m\u001b[1;33m:\u001b[0m\u001b[1;33m\u001b[0m\u001b[1;33m\u001b[0m\u001b[0m\n",
      "\u001b[1;32mE:\\Programas\\instalacao\\anaconda3\\envs\\dsEmProducaoEnv\\lib\\site-packages\\pandas\\core\\apply.py\u001b[0m in \u001b[0;36mapply_standard\u001b[1;34m(self)\u001b[0m\n\u001b[0;32m    810\u001b[0m \u001b[1;33m\u001b[0m\u001b[0m\n\u001b[0;32m    811\u001b[0m     \u001b[1;32mdef\u001b[0m \u001b[0mapply_standard\u001b[0m\u001b[1;33m(\u001b[0m\u001b[0mself\u001b[0m\u001b[1;33m)\u001b[0m\u001b[1;33m:\u001b[0m\u001b[1;33m\u001b[0m\u001b[1;33m\u001b[0m\u001b[0m\n\u001b[1;32m--> 812\u001b[1;33m         \u001b[0mresults\u001b[0m\u001b[1;33m,\u001b[0m \u001b[0mres_index\u001b[0m \u001b[1;33m=\u001b[0m \u001b[0mself\u001b[0m\u001b[1;33m.\u001b[0m\u001b[0mapply_series_generator\u001b[0m\u001b[1;33m(\u001b[0m\u001b[1;33m)\u001b[0m\u001b[1;33m\u001b[0m\u001b[1;33m\u001b[0m\u001b[0m\n\u001b[0m\u001b[0;32m    813\u001b[0m \u001b[1;33m\u001b[0m\u001b[0m\n\u001b[0;32m    814\u001b[0m         \u001b[1;31m# wrap results\u001b[0m\u001b[1;33m\u001b[0m\u001b[1;33m\u001b[0m\u001b[1;33m\u001b[0m\u001b[0m\n",
      "\u001b[1;32mE:\\Programas\\instalacao\\anaconda3\\envs\\dsEmProducaoEnv\\lib\\site-packages\\pandas\\core\\apply.py\u001b[0m in \u001b[0;36mapply_series_generator\u001b[1;34m(self)\u001b[0m\n\u001b[0;32m    824\u001b[0m \u001b[1;33m\u001b[0m\u001b[0m\n\u001b[0;32m    825\u001b[0m         \u001b[1;32mwith\u001b[0m \u001b[0moption_context\u001b[0m\u001b[1;33m(\u001b[0m\u001b[1;34m\"mode.chained_assignment\"\u001b[0m\u001b[1;33m,\u001b[0m \u001b[1;32mNone\u001b[0m\u001b[1;33m)\u001b[0m\u001b[1;33m:\u001b[0m\u001b[1;33m\u001b[0m\u001b[1;33m\u001b[0m\u001b[0m\n\u001b[1;32m--> 826\u001b[1;33m             \u001b[1;32mfor\u001b[0m \u001b[0mi\u001b[0m\u001b[1;33m,\u001b[0m \u001b[0mv\u001b[0m \u001b[1;32min\u001b[0m \u001b[0menumerate\u001b[0m\u001b[1;33m(\u001b[0m\u001b[0mseries_gen\u001b[0m\u001b[1;33m)\u001b[0m\u001b[1;33m:\u001b[0m\u001b[1;33m\u001b[0m\u001b[1;33m\u001b[0m\u001b[0m\n\u001b[0m\u001b[0;32m    827\u001b[0m                 \u001b[1;31m# ignore SettingWithCopy here in case the user mutates\u001b[0m\u001b[1;33m\u001b[0m\u001b[1;33m\u001b[0m\u001b[1;33m\u001b[0m\u001b[0m\n\u001b[0;32m    828\u001b[0m                 \u001b[0mresults\u001b[0m\u001b[1;33m[\u001b[0m\u001b[0mi\u001b[0m\u001b[1;33m]\u001b[0m \u001b[1;33m=\u001b[0m \u001b[0mself\u001b[0m\u001b[1;33m.\u001b[0m\u001b[0mf\u001b[0m\u001b[1;33m(\u001b[0m\u001b[0mv\u001b[0m\u001b[1;33m)\u001b[0m\u001b[1;33m\u001b[0m\u001b[1;33m\u001b[0m\u001b[0m\n",
      "\u001b[1;32mE:\\Programas\\instalacao\\anaconda3\\envs\\dsEmProducaoEnv\\lib\\site-packages\\pandas\\core\\apply.py\u001b[0m in \u001b[0;36mseries_generator\u001b[1;34m(self)\u001b[0m\n\u001b[0;32m    958\u001b[0m                 \u001b[0mser\u001b[0m\u001b[1;33m.\u001b[0m\u001b[0m_mgr\u001b[0m \u001b[1;33m=\u001b[0m \u001b[0mmgr\u001b[0m\u001b[1;33m\u001b[0m\u001b[1;33m\u001b[0m\u001b[0m\n\u001b[0;32m    959\u001b[0m                 \u001b[0mmgr\u001b[0m\u001b[1;33m.\u001b[0m\u001b[0mset_values\u001b[0m\u001b[1;33m(\u001b[0m\u001b[0marr\u001b[0m\u001b[1;33m)\u001b[0m\u001b[1;33m\u001b[0m\u001b[1;33m\u001b[0m\u001b[0m\n\u001b[1;32m--> 960\u001b[1;33m                 \u001b[0mser\u001b[0m\u001b[1;33m.\u001b[0m\u001b[0mname\u001b[0m \u001b[1;33m=\u001b[0m \u001b[0mname\u001b[0m\u001b[1;33m\u001b[0m\u001b[1;33m\u001b[0m\u001b[0m\n\u001b[0m\u001b[0;32m    961\u001b[0m                 \u001b[1;32myield\u001b[0m \u001b[0mser\u001b[0m\u001b[1;33m\u001b[0m\u001b[1;33m\u001b[0m\u001b[0m\n\u001b[0;32m    962\u001b[0m \u001b[1;33m\u001b[0m\u001b[0m\n",
      "\u001b[1;32mE:\\Programas\\instalacao\\anaconda3\\envs\\dsEmProducaoEnv\\lib\\site-packages\\pandas\\core\\generic.py\u001b[0m in \u001b[0;36m__setattr__\u001b[1;34m(self, name, value)\u001b[0m\n\u001b[0;32m   5498\u001b[0m         \u001b[1;32mtry\u001b[0m\u001b[1;33m:\u001b[0m\u001b[1;33m\u001b[0m\u001b[1;33m\u001b[0m\u001b[0m\n\u001b[0;32m   5499\u001b[0m             \u001b[0mobject\u001b[0m\u001b[1;33m.\u001b[0m\u001b[0m__getattribute__\u001b[0m\u001b[1;33m(\u001b[0m\u001b[0mself\u001b[0m\u001b[1;33m,\u001b[0m \u001b[0mname\u001b[0m\u001b[1;33m)\u001b[0m\u001b[1;33m\u001b[0m\u001b[1;33m\u001b[0m\u001b[0m\n\u001b[1;32m-> 5500\u001b[1;33m             \u001b[1;32mreturn\u001b[0m \u001b[0mobject\u001b[0m\u001b[1;33m.\u001b[0m\u001b[0m__setattr__\u001b[0m\u001b[1;33m(\u001b[0m\u001b[0mself\u001b[0m\u001b[1;33m,\u001b[0m \u001b[0mname\u001b[0m\u001b[1;33m,\u001b[0m \u001b[0mvalue\u001b[0m\u001b[1;33m)\u001b[0m\u001b[1;33m\u001b[0m\u001b[1;33m\u001b[0m\u001b[0m\n\u001b[0m\u001b[0;32m   5501\u001b[0m         \u001b[1;32mexcept\u001b[0m \u001b[0mAttributeError\u001b[0m\u001b[1;33m:\u001b[0m\u001b[1;33m\u001b[0m\u001b[1;33m\u001b[0m\u001b[0m\n\u001b[0;32m   5502\u001b[0m             \u001b[1;32mpass\u001b[0m\u001b[1;33m\u001b[0m\u001b[1;33m\u001b[0m\u001b[0m\n",
      "\u001b[1;32mE:\\Programas\\instalacao\\anaconda3\\envs\\dsEmProducaoEnv\\lib\\site-packages\\pandas\\core\\series.py\u001b[0m in \u001b[0;36mname\u001b[1;34m(self, value)\u001b[0m\n\u001b[0;32m    628\u001b[0m     \u001b[1;32mdef\u001b[0m \u001b[0mname\u001b[0m\u001b[1;33m(\u001b[0m\u001b[0mself\u001b[0m\u001b[1;33m,\u001b[0m \u001b[0mvalue\u001b[0m\u001b[1;33m:\u001b[0m \u001b[0mHashable\u001b[0m\u001b[1;33m)\u001b[0m \u001b[1;33m->\u001b[0m \u001b[1;32mNone\u001b[0m\u001b[1;33m:\u001b[0m\u001b[1;33m\u001b[0m\u001b[1;33m\u001b[0m\u001b[0m\n\u001b[0;32m    629\u001b[0m         \u001b[0mvalidate_all_hashable\u001b[0m\u001b[1;33m(\u001b[0m\u001b[0mvalue\u001b[0m\u001b[1;33m,\u001b[0m \u001b[0merror_name\u001b[0m\u001b[1;33m=\u001b[0m\u001b[1;34mf\"{type(self).__name__}.name\"\u001b[0m\u001b[1;33m)\u001b[0m\u001b[1;33m\u001b[0m\u001b[1;33m\u001b[0m\u001b[0m\n\u001b[1;32m--> 630\u001b[1;33m         \u001b[0mobject\u001b[0m\u001b[1;33m.\u001b[0m\u001b[0m__setattr__\u001b[0m\u001b[1;33m(\u001b[0m\u001b[0mself\u001b[0m\u001b[1;33m,\u001b[0m \u001b[1;34m\"_name\"\u001b[0m\u001b[1;33m,\u001b[0m \u001b[0mvalue\u001b[0m\u001b[1;33m)\u001b[0m\u001b[1;33m\u001b[0m\u001b[1;33m\u001b[0m\u001b[0m\n\u001b[0m\u001b[0;32m    631\u001b[0m \u001b[1;33m\u001b[0m\u001b[0m\n\u001b[0;32m    632\u001b[0m     \u001b[1;33m@\u001b[0m\u001b[0mproperty\u001b[0m\u001b[1;33m\u001b[0m\u001b[1;33m\u001b[0m\u001b[0m\n",
      "\u001b[1;31mKeyboardInterrupt\u001b[0m: "
     ]
    }
   ],
   "source": [
    "# competition_distance          \n",
    "df1['competition_distance'] = df1['competition_distance'].apply( lambda x: 200000.0 if math.isnan( x ) else x )\n",
    "\n",
    "# competition_open_since_month  \n",
    "df1['competition_open_since_month'] = df1.apply( lambda x: x['date'].month if math.isnan( x['competition_open_since_month'] ) else x['competition_open_since_month'], axis=1 )\n",
    "\n",
    "# competition_open_since_year   \n",
    "df1['competition_open_since_year'] = df1.apply( lambda x: x['date'].year if math.isnan( x['competition_open_since_year'] ) else x['competition_open_since_year'], axis=1 )\n",
    "\n",
    "# promo2_since_week             \n",
    "df1['promo2_since_week'] = df1.apply( lambda x: x['date'].week if math.isnan( x['promo2_since_week'] ) else x['promo2_since_week'], axis=1 )\n",
    "\n",
    "# promo2_since_year             \n",
    "df1['promo2_since_year'] = df1.apply( lambda x: x['date'].year if math.isnan( x['promo2_since_year'] ) else x['promo2_since_year'], axis=1 )\n",
    "\n",
    "# promo_interval\n",
    "month_map = {1: 'Jan', 2: 'Fev', 3: 'Mar', 4: 'Apr', 5: 'May',6: 'Jun', 7: 'Jul', 8: 'Aug', 9: 'Sep', 10: 'Oct', 11: 'Nov', 12: 'Dec'}\n",
    "\n",
    "df1['promo_interval'].fillna(0, inplace=True)\n",
    "\n",
    "df1['month_map'] = df1['date'].dt.month.map( month_map )\n",
    "\n",
    "df1['is_promo'] = df1[['promo_interval', 'month_map']].apply( lambda x: 0 if x['promo_interval'] == 0 else 1 if x['month_map'] in x['promo_interval'].split( ',' ) else 0, axis=1)"
   ]
  },
  {
   "cell_type": "code",
   "execution_count": null,
   "id": "9c10901f",
   "metadata": {
    "ExecuteTime": {
     "end_time": "2022-04-24T20:59:39.950948Z",
     "start_time": "2022-04-24T20:59:39.949977Z"
    }
   },
   "outputs": [],
   "source": [
    "df1.sample( 5 ).T"
   ]
  },
  {
   "cell_type": "code",
   "execution_count": null,
   "id": "e48246cb",
   "metadata": {
    "ExecuteTime": {
     "end_time": "2022-04-24T20:59:39.951944Z",
     "start_time": "2022-04-24T20:59:39.951944Z"
    }
   },
   "outputs": [],
   "source": [
    "df1.isna().sum()"
   ]
  },
  {
   "cell_type": "markdown",
   "id": "f7aa3912",
   "metadata": {},
   "source": [
    "## 1.6. Change Types"
   ]
  },
  {
   "cell_type": "code",
   "execution_count": null,
   "id": "30b8893f",
   "metadata": {
    "ExecuteTime": {
     "end_time": "2022-04-24T20:59:39.954967Z",
     "start_time": "2022-04-24T20:59:39.954967Z"
    }
   },
   "outputs": [],
   "source": [
    "df1['competition_open_since_month'] = df1['competition_open_since_month'].astype( int )\n",
    "df1['competition_open_since_year'] = df1['competition_open_since_year'].astype( int )\n",
    "df1['promo2_since_week'] = df1['promo2_since_week'].astype( int )\n",
    "df1['promo2_since_year'] = df1['promo2_since_year'].astype( int )"
   ]
  },
  {
   "cell_type": "code",
   "execution_count": null,
   "id": "1399558f",
   "metadata": {
    "ExecuteTime": {
     "end_time": "2022-04-24T20:59:39.955970Z",
     "start_time": "2022-04-24T20:59:39.955970Z"
    }
   },
   "outputs": [],
   "source": [
    "df1.dtypes"
   ]
  },
  {
   "cell_type": "markdown",
   "id": "5bd3a0fa",
   "metadata": {},
   "source": [
    "## 1.7. Descriptive Statistical"
   ]
  },
  {
   "cell_type": "code",
   "execution_count": null,
   "id": "bc75307f",
   "metadata": {
    "ExecuteTime": {
     "end_time": "2022-04-24T20:59:39.957940Z",
     "start_time": "2022-04-24T20:59:39.957940Z"
    }
   },
   "outputs": [],
   "source": [
    "num_attributes = df1.select_dtypes( include=['int64', 'int32', 'float64'] )\n",
    "cat_attributes = df1.select_dtypes( exclude=['int64', 'int32', 'float64', 'datetime64[ns]'] )"
   ]
  },
  {
   "cell_type": "code",
   "execution_count": null,
   "id": "98f7c4c0",
   "metadata": {
    "ExecuteTime": {
     "end_time": "2022-04-24T20:59:39.959937Z",
     "start_time": "2022-04-24T20:59:39.959937Z"
    }
   },
   "outputs": [],
   "source": [
    "cat_attributes.sample(2)"
   ]
  },
  {
   "cell_type": "markdown",
   "id": "5a3f065e",
   "metadata": {},
   "source": [
    "## 1.7.1 Numerical Attributes"
   ]
  },
  {
   "cell_type": "code",
   "execution_count": null,
   "id": "47a91be1",
   "metadata": {
    "ExecuteTime": {
     "end_time": "2022-04-24T20:59:39.960937Z",
     "start_time": "2022-04-24T20:59:39.960937Z"
    }
   },
   "outputs": [],
   "source": [
    "# Tendencia central - mean, ]median\n",
    "ct1 = pd.DataFrame( num_attributes.apply( np.mean ) ).T\n",
    "ct2 = pd.DataFrame( num_attributes.apply( np.median ) ).T\n",
    "\n",
    "# Dispersão - std, min, max, range, knew, kurtosis\n",
    "d1 = pd.DataFrame( num_attributes.apply( np.std ) ).T\n",
    "d2 = pd.DataFrame( num_attributes.apply( np.min ) ).T\n",
    "d3 = pd.DataFrame( num_attributes.apply( np.max ) ).T\n",
    "d4 = pd.DataFrame( num_attributes.apply( lambda x: x.max() - x.min() ) ).T\n",
    "d5 = pd.DataFrame( num_attributes.apply( lambda x: x.skew() ) ).T\n",
    "d6 = pd.DataFrame( num_attributes.apply( lambda x: x.kurtosis() ) ).T\n",
    "\n",
    "#Concatenar\n",
    "m = pd.concat( [d2, d3, d4, ct1, ct2, d1, d5, d6] ).T.reset_index()\n",
    "m.columns =['attributes', 'min', 'max', 'range', 'mean', 'median', 'std', 'skew', 'kurtosis']\n",
    "\n",
    "m\n"
   ]
  },
  {
   "cell_type": "code",
   "execution_count": null,
   "id": "00309477",
   "metadata": {
    "ExecuteTime": {
     "end_time": "2022-04-24T20:59:39.961941Z",
     "start_time": "2022-04-24T20:59:39.961941Z"
    }
   },
   "outputs": [],
   "source": [
    " sns.distplot( df1['sales'] )"
   ]
  },
  {
   "cell_type": "markdown",
   "id": "d80ad029",
   "metadata": {},
   "source": [
    "## 1.7.2 Categorical Attributes"
   ]
  },
  {
   "cell_type": "code",
   "execution_count": null,
   "id": "b2dd43e7",
   "metadata": {
    "ExecuteTime": {
     "end_time": "2022-04-24T20:59:39.962941Z",
     "start_time": "2022-04-24T20:59:39.962941Z"
    }
   },
   "outputs": [],
   "source": [
    "cat_attributes.apply( lambda x: x.unique().shape[0] )"
   ]
  },
  {
   "cell_type": "code",
   "execution_count": null,
   "id": "f40badf9",
   "metadata": {
    "ExecuteTime": {
     "end_time": "2022-04-24T20:59:39.963942Z",
     "start_time": "2022-04-24T20:59:39.963942Z"
    }
   },
   "outputs": [],
   "source": [
    "aux1 = df1[ (df1['state_holiday'] != '0') & (df1['sales'] > 0 ) ]\n",
    "\n",
    "# Redimensiona Gráficos\n",
    "plt.figure( figsize=(20, 18))\n",
    "\n",
    "plt.subplot( 1, 3, 1)\n",
    "sns.boxplot( x='state_holiday', y='sales', data=aux1)\n",
    "\n",
    "plt.subplot( 1, 3, 2)\n",
    "sns.boxplot( x='store_type', y='sales', data=aux1)\n",
    "\n",
    "plt.subplot( 1, 3, 3)\n",
    "sns.boxplot( x='assortment', y='sales', data=aux1)"
   ]
  },
  {
   "cell_type": "markdown",
   "id": "64840b47",
   "metadata": {},
   "source": [
    "# 2.0. PASSO 02 - FEATURE ENGINEERING"
   ]
  },
  {
   "cell_type": "code",
   "execution_count": null,
   "id": "bbf5658b",
   "metadata": {
    "ExecuteTime": {
     "end_time": "2022-04-24T20:59:39.965249Z",
     "start_time": "2022-04-24T20:59:39.965249Z"
    }
   },
   "outputs": [],
   "source": [
    "df2 = df1.copy()"
   ]
  },
  {
   "cell_type": "markdown",
   "id": "72458e33",
   "metadata": {},
   "source": [
    "## 2.1. Mapa Mental de Hipoteses"
   ]
  },
  {
   "cell_type": "code",
   "execution_count": null,
   "id": "220fb53c",
   "metadata": {
    "ExecuteTime": {
     "end_time": "2022-04-24T20:59:39.967191Z",
     "start_time": "2022-04-24T20:59:39.967191Z"
    }
   },
   "outputs": [],
   "source": [
    "Image( 'img/MapaMentalHipoteses.png' )"
   ]
  },
  {
   "cell_type": "markdown",
   "id": "f95a682f",
   "metadata": {},
   "source": [
    "## 2.2. Criação das Hipóteses"
   ]
  },
  {
   "cell_type": "markdown",
   "id": "b7c4055b",
   "metadata": {},
   "source": [
    "### 2.1.1. Hipóteses Loja"
   ]
  },
  {
   "cell_type": "markdown",
   "id": "517190c5",
   "metadata": {},
   "source": [
    "**1.** Lojas com número maior de funcionários deveriam vender mais.\n",
    "\n",
    "**2.** Lojas com maior capacidade de estoque deveriam vender mais.\n",
    "\n",
    "**3.** Lojas com maior porte deveriam vender mais.\n",
    "\n",
    "**4.** Lojas com maior sortimentos deveriam vender mais.\n",
    "\n",
    "**5.** Lojas com competidores mais próximos deveriam vender menos.\n",
    "\n",
    "**6.** Lojas com competidores à mais tempo deveriam vendem mais."
   ]
  },
  {
   "cell_type": "markdown",
   "id": "658d98ea",
   "metadata": {},
   "source": [
    "### 2.1.2. Hipóteses Produto"
   ]
  },
  {
   "cell_type": "markdown",
   "id": "01c7879e",
   "metadata": {},
   "source": [
    "**1.** Lojas que investem mais em Marketing deveriam vender mais.\n",
    "\n",
    "**2.** Lojas com maior exposição de produto deveriam vender mais.\n",
    "\n",
    "**3.** Lojas com produtos com preço menor deveriam vender mais.\n",
    "\n",
    "**5.** Lojas com promoções mais agressivas ( descontos maiores ), deveriam vender mais.\n",
    "\n",
    "**6.** Lojas com promoções ativas por mais tempo deveriam vender mais.\n",
    "\n",
    "**7.** Lojas com mais dias de promoção deveriam vender mais.\n",
    "\n",
    "**8.** Lojas com mais promoções consecutivas deveriam vender mais."
   ]
  },
  {
   "cell_type": "markdown",
   "id": "bd8e05bf",
   "metadata": {},
   "source": [
    "### 2.1.3. Hipóteses Tempo"
   ]
  },
  {
   "cell_type": "markdown",
   "id": "7b37ae9b",
   "metadata": {},
   "source": [
    "**1.** Lojas abertas durante o feriado de Natal deveriam vender mais.\n",
    "\n",
    "**2.** Lojas deveriam vender mais ao longo dos anos.\n",
    "\n",
    "**3.** Lojas deveriam vender mais no segundo semestre do ano.\n",
    "\n",
    "**4.** Lojas deveriam vender mais depois do dia 10 de cada mês.\n",
    "\n",
    "**5.** Lojas deveriam vender menos aos finais de semana.\n",
    "\n",
    "**6.** Lojas deveriam vender menos durante os feriados escolares."
   ]
  },
  {
   "cell_type": "markdown",
   "id": "aeecb922",
   "metadata": {},
   "source": [
    "## 2.3. Lista Final de Hipóteses"
   ]
  },
  {
   "cell_type": "markdown",
   "id": "4ddc0cbf",
   "metadata": {},
   "source": [
    "**1.** Lojas com maior sortimentos deveriam vender mais.\n",
    "\n",
    "**2.** Lojas com competidores mais próximos deveriam vender menos.\n",
    "\n",
    "**3.** Lojas com competidores à mais tempo deveriam vendem mais.\n",
    "\n",
    "**4.** Lojas com promoções ativas por mais tempo deveriam vender mais.\n",
    "\n",
    "**5.** Lojas com mais dias de promoção deveriam vender mais.\n",
    "\n",
    "**7.** Lojas com mais promoções consecutivas deveriam vender mais.\n",
    "\n",
    "**8.** Lojas abertas durante o feriado de Natal deveriam vender mais.\n",
    "\n",
    "**9.** Lojas deveriam vender mais ao longo dos anos.\n",
    "\n",
    "**10.** Lojas deveriam vender mais no segundo semestre do ano.\n",
    "\n",
    "**11.** Lojas deveriam vender mais depois do dia 10 de cada mês.\n",
    "\n",
    "**12.** Lojas deveriam vender menos aos finais de semana.\n",
    "\n",
    "**13.** Lojas deveriam vender menos durante os feriados escolares.\n"
   ]
  },
  {
   "cell_type": "markdown",
   "id": "18468d51",
   "metadata": {},
   "source": [
    "## 2.4. Feature Engineering"
   ]
  },
  {
   "cell_type": "code",
   "execution_count": null,
   "id": "d8bac4a7",
   "metadata": {
    "ExecuteTime": {
     "end_time": "2022-04-24T20:59:39.968192Z",
     "start_time": "2022-04-24T20:59:39.968192Z"
    }
   },
   "outputs": [],
   "source": [
    "# year\n",
    "df2['year'] = df2['date'].dt.year\n",
    "\n",
    "# month\n",
    "df2['month'] = df2['date'].dt.month\n",
    "\n",
    "# day\n",
    "df2['day'] = df2['date'].dt.day\n",
    "\n",
    "# week of year\n",
    "df2['week_of_year'] = df2['date'].dt.isocalendar().week\n",
    "\n",
    "# year week\n",
    "df2['year_week'] = df2['date'].dt.strftime( '%Y-%W' )\n",
    "\n",
    "# competition since\n",
    "df2['competition_since'] = df2.apply( lambda x: datetime.datetime( year=x['competition_open_since_year'], month=x['competition_open_since_month'], day=1), axis=1)\n",
    "df2['competition_time_month'] = ( ( df2['date'] - df2['competition_since'] ) / 30 ).apply( lambda x: x.days ).astype( int )\n",
    "\n",
    "# promo since\n",
    "df2['promo_since'] = df2['promo2_since_year'].astype( int ).astype( str ) + '-' + df2['promo2_since_week'].astype( int ).astype( str )\n",
    "df2['promo_since'] = df2['promo_since'].apply( lambda x: datetime.datetime.strptime( x + '-1', '%Y-%W-%w' ) - datetime.timedelta( days=7 ) )\n",
    "df2['promo_time_week'] = ( ( df2['date'] - df2['promo_since'] )/7 ).apply( lambda x: x.days ).astype( int )\n",
    "\n",
    "# assortment\n",
    "df2['assortment'] = df2['assortment'].apply( lambda x: 'basic' if x == 'a' else 'extra' if x == 'b' else 'extended' )\n",
    "\n",
    "# state holiday\n",
    "df2['state_holiday'] = df2['state_holiday'].apply( lambda x: 'public_holiday' if x == 'a' else 'easter_holiday' if x == 'b' else 'christmas' if x == 'c' else 'regular_day' )\n"
   ]
  },
  {
   "cell_type": "code",
   "execution_count": null,
   "id": "080971f6",
   "metadata": {
    "ExecuteTime": {
     "end_time": "2022-04-24T20:59:39.969190Z",
     "start_time": "2022-04-24T20:59:39.969190Z"
    },
    "scrolled": false
   },
   "outputs": [],
   "source": [
    "df2.head().T"
   ]
  },
  {
   "cell_type": "markdown",
   "id": "fc740ddb",
   "metadata": {},
   "source": [
    "# 3.0. PASSO 03 - FILTRAGEM DE VARIÁVEIS"
   ]
  },
  {
   "cell_type": "code",
   "execution_count": null,
   "id": "0c968bd4",
   "metadata": {
    "ExecuteTime": {
     "end_time": "2022-04-24T20:59:39.971191Z",
     "start_time": "2022-04-24T20:59:39.971191Z"
    }
   },
   "outputs": [],
   "source": [
    "df3 = df2.copy()"
   ]
  },
  {
   "cell_type": "markdown",
   "id": "5d088bd3",
   "metadata": {},
   "source": [
    "## 3.1. Filtragem das Linhas"
   ]
  },
  {
   "cell_type": "code",
   "execution_count": null,
   "id": "d62b2837",
   "metadata": {
    "ExecuteTime": {
     "end_time": "2022-04-24T20:59:39.973216Z",
     "start_time": "2022-04-24T20:59:39.973216Z"
    }
   },
   "outputs": [],
   "source": [
    "df3 = df3[ ( df3['open'] != 0 ) & ( df3['sales'] > 0 ) ]"
   ]
  },
  {
   "cell_type": "markdown",
   "id": "15b509ac",
   "metadata": {},
   "source": [
    "## 3.2. Selecao das Colunas"
   ]
  },
  {
   "cell_type": "code",
   "execution_count": null,
   "id": "b342ccaf",
   "metadata": {
    "ExecuteTime": {
     "end_time": "2022-04-24T20:59:39.974805Z",
     "start_time": "2022-04-24T20:59:39.974805Z"
    }
   },
   "outputs": [],
   "source": [
    "cols_drop = ['customers', 'open', 'promo_interval', 'month_map']\n",
    "df3 = df3.drop( cols_drop, axis=1 )"
   ]
  },
  {
   "cell_type": "code",
   "execution_count": null,
   "id": "a6b7c0c1",
   "metadata": {
    "ExecuteTime": {
     "end_time": "2022-04-24T20:59:39.976768Z",
     "start_time": "2022-04-24T20:59:39.976768Z"
    },
    "scrolled": true
   },
   "outputs": [],
   "source": [
    "df3.columns"
   ]
  },
  {
   "cell_type": "markdown",
   "id": "82c5a909",
   "metadata": {},
   "source": [
    "# 4.0. PASSO 04 - ANALISE EXPLORATORIA DOS DADOS"
   ]
  },
  {
   "cell_type": "code",
   "execution_count": null,
   "id": "1c73a36e",
   "metadata": {
    "ExecuteTime": {
     "end_time": "2022-04-24T20:59:39.978773Z",
     "start_time": "2022-04-24T20:59:39.978773Z"
    }
   },
   "outputs": [],
   "source": [
    "df4 = df3.copy()"
   ]
  },
  {
   "cell_type": "markdown",
   "id": "9c516d7a",
   "metadata": {},
   "source": [
    "## 4.1. Analise Univariada"
   ]
  },
  {
   "cell_type": "markdown",
   "id": "da52bed2",
   "metadata": {},
   "source": [
    "### 4.1.1.Variável Resposta"
   ]
  },
  {
   "cell_type": "code",
   "execution_count": null,
   "id": "7ee091ac",
   "metadata": {
    "ExecuteTime": {
     "end_time": "2022-04-24T20:59:39.980767Z",
     "start_time": "2022-04-24T20:59:39.980767Z"
    }
   },
   "outputs": [],
   "source": [
    "# Redimensiona gráfico\n",
    "plt.figure( figsize=(20, 14))\n",
    "\n",
    "# kde=False Para remover a desindade e deixar apenas o histograma\n",
    "sns.distplot( df4['sales'], kde=False )"
   ]
  },
  {
   "cell_type": "markdown",
   "id": "0a146a30",
   "metadata": {},
   "source": [
    "### 4.1.2. Variável Numérica"
   ]
  },
  {
   "cell_type": "code",
   "execution_count": null,
   "id": "3a262547",
   "metadata": {
    "ExecuteTime": {
     "end_time": "2022-04-24T20:59:39.982818Z",
     "start_time": "2022-04-24T20:59:39.982818Z"
    }
   },
   "outputs": [],
   "source": [
    "num_attributes.hist( bins=25 );"
   ]
  },
  {
   "cell_type": "markdown",
   "id": "226833cd",
   "metadata": {},
   "source": [
    "### 4.1.3. Variável Categórica"
   ]
  },
  {
   "cell_type": "code",
   "execution_count": null,
   "id": "0bbe0472",
   "metadata": {
    "ExecuteTime": {
     "end_time": "2022-04-24T20:59:39.983768Z",
     "start_time": "2022-04-24T20:59:39.983768Z"
    },
    "scrolled": true
   },
   "outputs": [],
   "source": [
    "df4['state_holiday'].drop_duplicates()"
   ]
  },
  {
   "cell_type": "code",
   "execution_count": null,
   "id": "17e0644e",
   "metadata": {
    "ExecuteTime": {
     "end_time": "2022-04-24T20:59:39.984767Z",
     "start_time": "2022-04-24T20:59:39.984767Z"
    },
    "hide_input": false,
    "scrolled": false
   },
   "outputs": [],
   "source": [
    "# state_holiday\n",
    "plt.subplot( 3, 2, 1 )\n",
    "a = df4[df4['state_holiday'] != 'regular_day']\n",
    "sns.countplot( a['state_holiday'] )\n",
    "\n",
    "plt.subplot( 3, 2, 2 )\n",
    "sns.kdeplot( df4[df4['state_holiday'] == 'public_holiday']['sales'], label='public_holiday', shade=True )\n",
    "sns.kdeplot( df4[df4['state_holiday'] == 'easter_holiday']['sales'], label='easter_holiday', shade=True )\n",
    "sns.kdeplot( df4[df4['state_holiday'] == 'christmas']['sales'], label='christmas', shade=True )\n",
    "\n",
    "# store_type\n",
    "plt.subplot( 3, 2, 3 )\n",
    "sns.countplot( df4['store_type'] )\n",
    "\n",
    "plt.subplot( 3, 2, 4 )\n",
    "sns.kdeplot( df4[df4['store_type'] == 'a']['sales'], label='a', shade=True )\n",
    "sns.kdeplot( df4[df4['store_type'] == 'b']['sales'], label='b', shade=True )\n",
    "sns.kdeplot( df4[df4['store_type'] == 'c']['sales'], label='c', shade=True )\n",
    "sns.kdeplot( df4[df4['store_type'] == 'd']['sales'], label='d', shade=True )\n",
    "\n",
    "# assortment\n",
    "plt.subplot( 3, 2, 5 )\n",
    "sns.countplot( df4['assortment'] )\n",
    "\n",
    "plt.subplot( 3, 2, 6 )\n",
    "sns.kdeplot( df4[df4['assortment'] == 'extended']['sales'], label='extended', shade=True )\n",
    "sns.kdeplot( df4[df4['assortment'] == 'basic']['sales'], label='basic', shade=True )\n",
    "sns.kdeplot( df4[df4['assortment'] == 'extra']['sales'], label='extra', shade=True )"
   ]
  },
  {
   "cell_type": "markdown",
   "id": "d6f912dd",
   "metadata": {},
   "source": [
    "## 4.2. Analise Bivariada"
   ]
  },
  {
   "cell_type": "markdown",
   "id": "472bdcff",
   "metadata": {},
   "source": [
    "### **H1.** Lojas com maior sortimentos deveriam vender mais.\n",
    "**Falsa** pois lojas com maior sortimento vendem menos"
   ]
  },
  {
   "cell_type": "code",
   "execution_count": null,
   "id": "c6f687a7",
   "metadata": {
    "ExecuteTime": {
     "end_time": "2022-04-24T20:59:39.985781Z",
     "start_time": "2022-04-24T20:59:39.985781Z"
    }
   },
   "outputs": [],
   "source": [
    "aux1 = df4[['assortment', 'sales']].groupby( 'assortment' ).sum().reset_index()\n",
    "sns.barplot( x='assortment', y='sales', data=aux1);\n",
    "\n",
    "aux2 = df4[['year_week', 'assortment', 'sales']].groupby( ['year_week', 'assortment'] ).sum().reset_index()\n",
    "aux2.pivot( index='year_week', columns='assortment', values='sales').plot()\n",
    "\n",
    "aux3 = aux2[ aux2['assortment'] == 'extra']\n",
    "aux3.pivot( index='year_week', columns='assortment', values='sales').plot()"
   ]
  },
  {
   "cell_type": "markdown",
   "id": "2cbd8a04",
   "metadata": {},
   "source": [
    "### **H2.** Lojas com competidores mais próximos deveriam vender menos.\n",
    "***FALSA*** Lojas com Competidores mais próximos vendem mais."
   ]
  },
  {
   "cell_type": "code",
   "execution_count": null,
   "id": "694a2230",
   "metadata": {
    "ExecuteTime": {
     "end_time": "2022-04-24T20:59:39.987768Z",
     "start_time": "2022-04-24T20:59:39.987768Z"
    }
   },
   "outputs": [],
   "source": [
    "aux1 = df4[['competition_distance', 'sales']].groupby( 'competition_distance' ).sum().reset_index()\n",
    "# sns.barplot( x='competition_distance', y='sales', data=aux1);\n",
    "\n",
    "plt.subplot( 1, 3, 1 )\n",
    "sns.scatterplot( x='competition_distance', y='sales', data=aux1);\n",
    "\n",
    "plt.subplot( 1, 3, 2 )\n",
    "bins = list( np.arange(0, 20000, 1000) )\n",
    "aux1['competition_distance_binned'] = pd.cut ( aux1['competition_distance'], bins=bins)\n",
    "aux2 = aux1[['competition_distance_binned', 'sales']].groupby('competition_distance_binned').sum().reset_index()\n",
    "sns.barplot( x='competition_distance_binned', y='sales', data=aux2);\n",
    "plt.xticks( rotation=90)\n",
    "\n",
    "\n",
    "plt.subplot( 1, 3, 3 )\n",
    "sns.heatmap( aux1.corr( method='pearson'), annot=True)"
   ]
  },
  {
   "cell_type": "markdown",
   "id": "fa80b46e",
   "metadata": {},
   "source": [
    "### **H3.** Lojas com competidores à mais tempo deveriam vendem mais.\n",
    "***FALSA*** Lojas com competidores a mais tempo vendem menos."
   ]
  },
  {
   "cell_type": "code",
   "execution_count": null,
   "id": "3bd6992f",
   "metadata": {
    "ExecuteTime": {
     "end_time": "2022-04-24T20:59:39.988768Z",
     "start_time": "2022-04-24T20:59:39.988768Z"
    },
    "scrolled": true
   },
   "outputs": [],
   "source": [
    "plt.subplot( 1, 3, 1)\n",
    "aux1 = df4[['competition_time_month', 'sales']].groupby( 'competition_time_month' ).sum().reset_index()\n",
    "aux2 = aux1[ (aux1['competition_time_month'] < 120 ) & ( aux1['competition_time_month'] != 0 ) ]\n",
    "sns.barplot(x='competition_time_month', y='sales', data=aux2)\n",
    "plt.xticks( rotation=90 );\n",
    "\n",
    "plt.subplot( 1, 3, 2)\n",
    "sns.regplot(x='competition_time_month', y='sales', data=aux2)\n",
    "\n",
    "plt.subplot( 1, 3, 3)\n",
    "sns.heatmap( aux1.corr( method='pearson'), annot=True)"
   ]
  },
  {
   "cell_type": "markdown",
   "id": "cbd8d942",
   "metadata": {},
   "source": [
    "### **H4.** Lojas com promoções ativas por mais tempo deveriam vender mais.\n",
    "***Falsa*** Lojas com promoções ativas por mais tempo vendem menos, depois de um certo período de promoção."
   ]
  },
  {
   "cell_type": "code",
   "execution_count": null,
   "id": "8edd663e",
   "metadata": {
    "ExecuteTime": {
     "end_time": "2022-04-24T20:59:39.990771Z",
     "start_time": "2022-04-24T20:59:39.990771Z"
    },
    "scrolled": false
   },
   "outputs": [],
   "source": [
    "aux1 = df4[['promo_time_week', 'sales']].groupby( 'promo_time_week' ).sum().reset_index()\n",
    "\n",
    "grid = GridSpec( 2, 3 )\n",
    "\n",
    "plt.subplot( grid[0,0] )\n",
    "aux2 = aux1[aux1['promo_time_week'] > 0] # Promo Extendida\n",
    "sns.barplot( x='promo_time_week', y='sales', data=aux2)\n",
    "plt.xticks( rotation='90' );\n",
    "\n",
    "plt.subplot( grid[0,1] )\n",
    "sns.regplot( x='promo_time_week', y='sales', data=aux2)\n",
    "\n",
    "plt.subplot( grid[1,0] )\n",
    "aux3 = aux1[aux1['promo_time_week'] < 0] # Promo Regular\n",
    "sns.barplot( x='promo_time_week', y='sales', data=aux3)\n",
    "plt.xticks( rotation='90' );\n",
    "\n",
    "plt.subplot( grid[1,1] )\n",
    "sns.regplot( x='promo_time_week', y='sales', data=aux3)\n",
    "\n",
    "plt.subplot( grid[0:,2] )\n",
    "sns.heatmap( aux1.corr( method='pearson' ) );"
   ]
  },
  {
   "cell_type": "code",
   "execution_count": null,
   "id": "75738953",
   "metadata": {},
   "outputs": [],
   "source": []
  },
  {
   "cell_type": "markdown",
   "id": "70e01819",
   "metadata": {},
   "source": [
    "### <s> **H5.** Lojas com mais dias de promoção deveriam vender mais. </s>"
   ]
  },
  {
   "cell_type": "markdown",
   "id": "69e60424",
   "metadata": {},
   "source": [
    "### **H7.** Lojas com mais promoções consecutivas deveriam vender mais.\n",
    "***Falsa*** lojas com promoções consecutivas vendem menos."
   ]
  },
  {
   "cell_type": "code",
   "execution_count": null,
   "id": "846065a4",
   "metadata": {
    "ExecuteTime": {
     "end_time": "2022-04-24T20:59:39.992769Z",
     "start_time": "2022-04-24T20:59:39.992769Z"
    }
   },
   "outputs": [],
   "source": [
    "df4[['promo', 'promo2', 'sales']].groupby(['promo', 'promo2']).sum().reset_index()"
   ]
  },
  {
   "cell_type": "code",
   "execution_count": null,
   "id": "8ba4b321",
   "metadata": {
    "ExecuteTime": {
     "end_time": "2022-04-24T20:59:39.993766Z",
     "start_time": "2022-04-24T20:59:39.993766Z"
    },
    "scrolled": true
   },
   "outputs": [],
   "source": [
    "## Período de promoção tradicional e extendida\n",
    "aux1 = df4[( df4['promo'] == 1 ) & ( df4['promo2'] == 1 )][['year_week', 'sales']].groupby( 'year_week' ).sum().reset_index()\n",
    "ax = aux1.plot()\n",
    "\n",
    "\n",
    "## Período de promoção tradicional e extendida\n",
    "aux1 = df4[( df4['promo'] == 1 ) & ( df4['promo2'] == 0 )][['year_week', 'sales']].groupby( 'year_week' ).sum().reset_index()\n",
    "aux1.plot( ax=ax )\n",
    "\n",
    "ax.legend( labels=['Tradicional e Extendida', 'Extendida'] )\n"
   ]
  },
  {
   "cell_type": "markdown",
   "id": "afee0931",
   "metadata": {},
   "source": [
    "### **H8.** Lojas abertas durante o feriado de Natal deveriam vender mais.\n",
    "***Falsa*** Lojas abertas durante o feriado do natal vendem menos."
   ]
  },
  {
   "cell_type": "code",
   "execution_count": null,
   "id": "552036ed",
   "metadata": {
    "ExecuteTime": {
     "end_time": "2022-04-24T20:59:39.995768Z",
     "start_time": "2022-04-24T20:59:39.995768Z"
    }
   },
   "outputs": [],
   "source": [
    "aux = df4[df4['state_holiday'] != 'regular_day']\n",
    "aux1 = aux[['state_holiday', 'sales']].groupby( 'state_holiday' ).sum().reset_index()\n",
    "\n",
    "plt.subplot(1, 2, 1)\n",
    "sns.barplot(x='state_holiday', y='sales', data=aux1);\n",
    "\n",
    "plt.subplot(1, 2, 2)\n",
    "aux2 = aux[['year', 'state_holiday', 'sales']].groupby( ['year', 'state_holiday']).sum().reset_index()\n",
    "sns.barplot(x='year', y='sales', hue='state_holiday', data=aux2);"
   ]
  },
  {
   "cell_type": "markdown",
   "id": "1811cfeb",
   "metadata": {},
   "source": [
    "### **H9.** Lojas deveriam vender mais ao longo dos anos.\n",
    "***Falso*** Loja vendem menos ao longo do ano"
   ]
  },
  {
   "cell_type": "code",
   "execution_count": null,
   "id": "5b0e66af",
   "metadata": {
    "ExecuteTime": {
     "end_time": "2022-04-24T20:59:39.997768Z",
     "start_time": "2022-04-24T20:59:39.997768Z"
    }
   },
   "outputs": [],
   "source": [
    "aux1 = df4[['year', 'sales']].groupby( 'year' ).sum().reset_index()\n",
    "\n",
    "plt.subplot( 1, 3, 1)\n",
    "sns.barplot( x='year', y='sales', data=aux1)\n",
    "\n",
    "plt.subplot( 1, 3, 2)\n",
    "sns.regplot( x='year', y='sales', data=aux1)\n",
    "\n",
    "plt.subplot( 1, 3, 3)\n",
    "sns.heatmap( aux1.corr( method='pearson' ), annot=True )"
   ]
  },
  {
   "cell_type": "code",
   "execution_count": null,
   "id": "ebdb74fc",
   "metadata": {
    "ExecuteTime": {
     "end_time": "2022-04-24T20:59:39.999770Z",
     "start_time": "2022-04-24T20:59:39.999770Z"
    }
   },
   "outputs": [],
   "source": [
    "aux1['year'].drop_duplicates()"
   ]
  },
  {
   "cell_type": "markdown",
   "id": "e435806c",
   "metadata": {},
   "source": [
    "### **H10.** Lojas deveriam vender mais no segundo semestre do ano.\n",
    "***Falso*** Loja vendem menos no segundo semestre do ano"
   ]
  },
  {
   "cell_type": "code",
   "execution_count": null,
   "id": "da9c36a7",
   "metadata": {
    "ExecuteTime": {
     "end_time": "2022-04-24T20:59:40.000771Z",
     "start_time": "2022-04-24T20:59:40.000771Z"
    }
   },
   "outputs": [],
   "source": [
    "aux1 = df4[['month', 'sales']].groupby( 'month' ).sum().reset_index()\n",
    "\n",
    "plt.subplot( 1, 3, 1)\n",
    "sns.barplot( x='month', y='sales', data=aux1)\n",
    "\n",
    "plt.subplot( 1, 3, 2)\n",
    "sns.regplot( x='month', y='sales', data=aux1)\n",
    "\n",
    "plt.subplot( 1, 3, 3)\n",
    "sns.heatmap( aux1.corr( method='pearson' ), annot=True )"
   ]
  },
  {
   "cell_type": "markdown",
   "id": "69f8a699",
   "metadata": {},
   "source": [
    "### **H11.** Lojas deveriam vender mais depois do dia 10 de cada mês.\n",
    "***Verdadeira*** Pois as lojas vendem mais depois do dia 10"
   ]
  },
  {
   "cell_type": "code",
   "execution_count": null,
   "id": "abd8cb58",
   "metadata": {
    "ExecuteTime": {
     "end_time": "2022-04-24T20:59:40.001768Z",
     "start_time": "2022-04-24T20:59:40.001768Z"
    }
   },
   "outputs": [],
   "source": [
    "aux1['before_after'] = df4['day'].apply( lambda x: 'before_10_days' if x <= 10 else 'after_10_days' )\n",
    "aux1.head()"
   ]
  },
  {
   "cell_type": "code",
   "execution_count": null,
   "id": "f1433374",
   "metadata": {
    "ExecuteTime": {
     "end_time": "2022-04-24T20:59:40.003770Z",
     "start_time": "2022-04-24T20:59:40.003770Z"
    }
   },
   "outputs": [],
   "source": [
    "aux1 = df4[['day', 'sales']].groupby( 'day' ).sum().reset_index()\n",
    "\n",
    "plt.subplot( 2, 2, 1)\n",
    "sns.barplot( x='day', y='sales', data=aux1)\n",
    "\n",
    "plt.subplot( 2, 2, 2)\n",
    "sns.regplot( x='day', y='sales', data=aux1)\n",
    "\n",
    "plt.subplot( 2, 2, 3)\n",
    "sns.heatmap( aux1.corr( method='pearson' ), annot=True )\n",
    "\n",
    "plt.subplot( 2, 2, 4)\n",
    "aux1['before_after'] = aux1['day'].apply( lambda x: 'before_10_days' if x <= 10 else 'after_10_days' )\n",
    "\n",
    "aux2 = aux1[['before_after', 'sales']].groupby( 'before_after' ).sum().reset_index()\n",
    "sns.barplot( x='before_after', y='sales', data=aux2)"
   ]
  },
  {
   "cell_type": "markdown",
   "id": "02c8709e",
   "metadata": {},
   "source": [
    "### **H12.** Lojas deveriam vender menos aos finais de semana.\n",
    "***Verdadeira*** lojas vendem menos nos finais de semana."
   ]
  },
  {
   "cell_type": "code",
   "execution_count": null,
   "id": "e6980b48",
   "metadata": {
    "ExecuteTime": {
     "end_time": "2022-04-24T20:59:40.004770Z",
     "start_time": "2022-04-24T20:59:40.004770Z"
    }
   },
   "outputs": [],
   "source": [
    "aux1 = df4[['day_of_week', 'sales']].groupby( 'day_of_week' ).sum().reset_index()\n",
    "\n",
    "plt.subplot( 1, 3, 1)\n",
    "sns.barplot( x='day_of_week', y='sales', data=aux1)\n",
    "\n",
    "plt.subplot( 1, 3, 2)\n",
    "sns.regplot( x='day_of_week', y='sales', data=aux1)\n",
    "\n",
    "plt.subplot( 1, 3, 3)\n",
    "sns.heatmap( aux1.corr( method='pearson' ), annot=True )"
   ]
  },
  {
   "cell_type": "markdown",
   "id": "d8dd10a7",
   "metadata": {},
   "source": [
    "### **H13.** Lojas deveriam vender menos durante os feriados escolares.\n",
    "**Verdadeira** Lojas vendem menos durante os feriados escolares, exceto meses de julho e agosto"
   ]
  },
  {
   "cell_type": "code",
   "execution_count": null,
   "id": "1fdcaa71",
   "metadata": {
    "ExecuteTime": {
     "end_time": "2022-04-24T20:59:40.006767Z",
     "start_time": "2022-04-24T20:59:40.005767Z"
    }
   },
   "outputs": [],
   "source": [
    "aux1 = df4[['school_holiday', 'sales']].groupby( 'school_holiday' ).sum().reset_index()\n",
    "\n",
    "plt.subplot( 2, 1, 1)\n",
    "sns.barplot( x='school_holiday', y='sales', data=aux1)\n",
    "\n",
    "plt.subplot( 2, 1, 2)\n",
    "aux2 = df4[['month', 'school_holiday', 'sales']].groupby( ['month', 'school_holiday'] ).sum().reset_index()\n",
    "sns.barplot( x='month', y='sales', hue='school_holiday', data=aux2)\n",
    "\n",
    "# plt.subplot( 1, 3, 3)\n",
    "# sns.heatmap( aux1.corr( method='pearson' ), annot=True )"
   ]
  },
  {
   "cell_type": "markdown",
   "id": "74557d25",
   "metadata": {},
   "source": [
    "## 4.3. Analise Multivariada"
   ]
  },
  {
   "cell_type": "markdown",
   "id": "faa7c867",
   "metadata": {},
   "source": [
    "### 4.3.1. Atributos Numéricos"
   ]
  },
  {
   "cell_type": "code",
   "execution_count": null,
   "id": "48f60b99",
   "metadata": {
    "ExecuteTime": {
     "end_time": "2022-04-24T20:59:40.007767Z",
     "start_time": "2022-04-24T20:59:40.007767Z"
    }
   },
   "outputs": [],
   "source": [
    "correlation = num_attributes.corr( method='pearson')\n",
    "sns.heatmap( correlation, annot=True)"
   ]
  },
  {
   "cell_type": "markdown",
   "id": "0b3cd76a",
   "metadata": {},
   "source": [
    "### 4.3.2. Atributos Categóricos"
   ]
  },
  {
   "cell_type": "code",
   "execution_count": null,
   "id": "ab3efabb",
   "metadata": {
    "ExecuteTime": {
     "end_time": "2022-04-24T20:59:40.008767Z",
     "start_time": "2022-04-24T20:59:40.008767Z"
    },
    "scrolled": true
   },
   "outputs": [],
   "source": [
    "# Apenas dados categóricos\n",
    "a = df4.select_dtypes( include='object' )\n",
    "\n",
    "# Calculando V de cramer\n",
    "a1 = cramer_v( a['state_holiday'], a['state_holiday'] )\n",
    "a2 = cramer_v( a['state_holiday'], a['store_type'] )\n",
    "a3 = cramer_v( a['state_holiday'], a['assortment'] )\n",
    "\n",
    "a4 = cramer_v( a['store_type'], a['state_holiday'] )\n",
    "a5 = cramer_v( a['store_type'], a['store_type'] )\n",
    "a6 = cramer_v( a['store_type'], a['assortment'] )\n",
    "\n",
    "a7 = cramer_v( a['assortment'], a['state_holiday'] )\n",
    "a8 = cramer_v( a['assortment'], a['store_type'] )\n",
    "a9 = cramer_v( a['assortment'], a['assortment'] )\n",
    "\n",
    "# Dataset Final\n",
    "d = pd.DataFrame( {'state_holiday' : [a1, a2, a3],\n",
    "               'store_type' : [a4, a5, a6],\n",
    "               'assortment' : [a7, a8, a9]})\n",
    "d.set_index( d.columns, inplace=True )\n",
    "\n",
    "sns.heatmap( d, annot=True )"
   ]
  },
  {
   "cell_type": "markdown",
   "id": "2665b444",
   "metadata": {},
   "source": [
    "# 5.0. PASSO 05 - PREPARAÇÃO DOS DADOS"
   ]
  },
  {
   "cell_type": "code",
   "execution_count": null,
   "id": "5661fa14",
   "metadata": {
    "ExecuteTime": {
     "end_time": "2022-04-24T20:59:40.009768Z",
     "start_time": "2022-04-24T20:59:40.009768Z"
    }
   },
   "outputs": [],
   "source": [
    "df5 = df4.copy()"
   ]
  },
  {
   "cell_type": "markdown",
   "id": "b8622239",
   "metadata": {},
   "source": [
    "## 5.1. Normalização"
   ]
  },
  {
   "cell_type": "markdown",
   "id": "513cff57",
   "metadata": {},
   "source": [
    "## 5.2. Rescaling"
   ]
  },
  {
   "cell_type": "code",
   "execution_count": null,
   "id": "3b6376bf",
   "metadata": {
    "ExecuteTime": {
     "end_time": "2022-04-24T20:59:40.011767Z",
     "start_time": "2022-04-24T20:59:40.011767Z"
    }
   },
   "outputs": [],
   "source": [
    "rs = RobustScaler()\n",
    "mms = MinMaxScaler()\n",
    "\n",
    "# competition distance\n",
    "df5['competition_distance'] = rs.fit_transform( df5[['competition_distance']].values )\n",
    "\n",
    "# competition time month\n",
    "df5['competition_time_month'] = rs.fit_transform( df5[['competition_time_month']].values )\n",
    "\n",
    "# promo time week \n",
    "df5['promo_time_week'] = mms.fit_transform( df5[['promo_time_week']].values )\n",
    "\n",
    "# year\n",
    "df5['year'] = mms.fit_transform( df5[['year']].values )"
   ]
  },
  {
   "cell_type": "markdown",
   "id": "e0931e81",
   "metadata": {},
   "source": [
    "## 5.3. Transformação"
   ]
  },
  {
   "cell_type": "markdown",
   "id": "8c59fee7",
   "metadata": {},
   "source": [
    "### 5.3.1. Encoding"
   ]
  },
  {
   "cell_type": "code",
   "execution_count": null,
   "id": "30e397cd",
   "metadata": {
    "ExecuteTime": {
     "end_time": "2022-04-24T20:59:40.013769Z",
     "start_time": "2022-04-24T20:59:40.013769Z"
    }
   },
   "outputs": [],
   "source": [
    "# state_holiday - One Hot Encoding\n",
    "df5 = pd.get_dummies( df5, prefix=['state_holiday'], columns=['state_holiday'])"
   ]
  },
  {
   "cell_type": "code",
   "execution_count": null,
   "id": "fc793b4d",
   "metadata": {
    "ExecuteTime": {
     "end_time": "2022-04-24T20:59:40.016775Z",
     "start_time": "2022-04-24T20:59:40.016775Z"
    }
   },
   "outputs": [],
   "source": [
    "# store_type - Label Encoding\n",
    "le = LabelEncoder()\n",
    "df5['store_type'] = le.fit_transform( df5['store_type'] )"
   ]
  },
  {
   "cell_type": "code",
   "execution_count": null,
   "id": "4294ec86",
   "metadata": {
    "ExecuteTime": {
     "end_time": "2022-04-24T20:59:40.018769Z",
     "start_time": "2022-04-24T20:59:40.018769Z"
    }
   },
   "outputs": [],
   "source": [
    "# assortment - Ordinal Encoding\n",
    "assortment_dic = {'basic': 1, 'extra': 2, 'extended': 3}\n",
    "df5['assortment'] = df5['assortment'].map( assortment_dic )"
   ]
  },
  {
   "cell_type": "markdown",
   "id": "141f6349",
   "metadata": {},
   "source": [
    "### 5.3.2. Response Variable Transformation"
   ]
  },
  {
   "cell_type": "code",
   "execution_count": null,
   "id": "d56a7ab2",
   "metadata": {
    "ExecuteTime": {
     "end_time": "2022-04-24T20:59:40.020789Z",
     "start_time": "2022-04-24T20:59:40.020789Z"
    }
   },
   "outputs": [],
   "source": [
    "df5['sales'] = np.log1p( df5['sales'] )"
   ]
  },
  {
   "cell_type": "code",
   "execution_count": null,
   "id": "f14b2c25",
   "metadata": {
    "ExecuteTime": {
     "end_time": "2022-04-24T20:59:40.022769Z",
     "start_time": "2022-04-24T20:59:40.021768Z"
    }
   },
   "outputs": [],
   "source": [
    "# Ver como ficou a distribuição\n",
    "sns.displot( df5['sales'] )"
   ]
  },
  {
   "cell_type": "markdown",
   "id": "ff40e982",
   "metadata": {},
   "source": [
    "### 5.3.3. Nature Transformation"
   ]
  },
  {
   "cell_type": "markdown",
   "id": "767d603e",
   "metadata": {},
   "source": [
    "<img src='img/transformacao_natureza_ciclica.jpg' >\n",
    "\n",
    "**Usando o círculo trigonométrico podemos calcular o ângulo entre as distâncias dos meses.**"
   ]
  },
  {
   "cell_type": "code",
   "execution_count": null,
   "id": "e7a763aa",
   "metadata": {
    "ExecuteTime": {
     "end_time": "2022-04-24T20:59:40.023769Z",
     "start_time": "2022-04-24T20:59:40.023769Z"
    }
   },
   "outputs": [],
   "source": [
    "# day of week - Reinicia o ciclo a cada 7 dias\n",
    "reinicia_ciclo = 7\n",
    "df5['day_of_week_sin'] = df5['day_of_week'].apply( lambda x: np.sin( x * ( 2. * np.pi/reinicia_ciclo ) ) )\n",
    "df5['day_of_week_cos'] = df5['day_of_week'].apply( lambda x: np.cos( x * ( 2. * np.pi/reinicia_ciclo ) ) )\n",
    "\n",
    "# month\n",
    "reinicia_ciclo = 12\n",
    "df5['month_sin'] = df5['month'].apply( lambda x: np.sin( x * ( 2. * np.pi/reinicia_ciclo ) ) )\n",
    "df5['month_cos'] = df5['month'].apply( lambda x: np.cos( x * ( 2. * np.pi/reinicia_ciclo ) ) )\n",
    "\n",
    "# day - Como tem mêses que tem 28,30,31 dias usei como base 30 para todos.\n",
    "reinicia_ciclo = 30\n",
    "df5['day_sin'] = df5['day'].apply( lambda x: np.sin( x * ( 2. * np.pi/reinicia_ciclo ) ) )\n",
    "df5['day_cos'] = df5['day'].apply( lambda x: np.cos( x * ( 2. * np.pi/reinicia_ciclo ) ) )\n",
    "\n",
    "# week of year\n",
    "reinicia_ciclo = 52\n",
    "df5['week_of_year_sin'] = df5['week_of_year'].apply( lambda x: np.sin( x * ( 2. * np.pi/reinicia_ciclo ) ) )\n",
    "df5['week_of_year_cos'] = df5['week_of_year'].apply( lambda x: np.cos( x * ( 2. * np.pi/reinicia_ciclo ) ) )"
   ]
  },
  {
   "cell_type": "markdown",
   "id": "8725a312",
   "metadata": {},
   "source": [
    "# 6.0. PASSO 06 - FEATURE SELECTION"
   ]
  },
  {
   "cell_type": "code",
   "execution_count": null,
   "id": "1e249a8d",
   "metadata": {
    "ExecuteTime": {
     "end_time": "2022-04-24T20:59:40.025093Z",
     "start_time": "2022-04-24T20:59:40.025093Z"
    }
   },
   "outputs": [],
   "source": [
    "df6 = df5.copy()"
   ]
  },
  {
   "cell_type": "markdown",
   "id": "89164d3a",
   "metadata": {},
   "source": [
    "## 6.1. Split Dataframe into training and test dataset"
   ]
  },
  {
   "cell_type": "code",
   "execution_count": null,
   "id": "d11aeddd",
   "metadata": {
    "ExecuteTime": {
     "end_time": "2022-04-24T20:59:40.027072Z",
     "start_time": "2022-04-24T20:59:40.027072Z"
    }
   },
   "outputs": [],
   "source": [
    "df6.head()"
   ]
  },
  {
   "cell_type": "code",
   "execution_count": null,
   "id": "013eea97",
   "metadata": {
    "ExecuteTime": {
     "end_time": "2022-04-24T20:59:40.029463Z",
     "start_time": "2022-04-24T20:59:40.029463Z"
    }
   },
   "outputs": [],
   "source": [
    "cols_drop = ['week_of_year', 'day', 'month', 'day_of_week', 'promo_since', 'competition_since', 'year_week']\n",
    "df6 = df6.drop( cols_drop, axis=1 )"
   ]
  },
  {
   "cell_type": "code",
   "execution_count": null,
   "id": "d786cbba",
   "metadata": {
    "ExecuteTime": {
     "end_time": "2022-04-24T20:59:40.031072Z",
     "start_time": "2022-04-24T20:59:40.031072Z"
    }
   },
   "outputs": [],
   "source": [
    "df6[['store', 'date']].groupby( 'store' ).min().reset_index()['date'][0] - datetime.timedelta( days=7*6 )"
   ]
  },
  {
   "cell_type": "code",
   "execution_count": null,
   "id": "cfd82709",
   "metadata": {
    "ExecuteTime": {
     "end_time": "2022-04-24T20:59:40.033071Z",
     "start_time": "2022-04-24T20:59:40.033071Z"
    }
   },
   "outputs": [],
   "source": [
    "# training dataset\n",
    "X_train = df6[df6['date'] < '2015-06-19']\n",
    "y_train = X_train['sales']\n",
    "\n",
    "# test dataset\n",
    "X_test = df6[df6['date'] >= '2015-06-19']\n",
    "y_test = X_test['sales']"
   ]
  },
  {
   "cell_type": "code",
   "execution_count": null,
   "id": "7b871682",
   "metadata": {
    "ExecuteTime": {
     "end_time": "2022-04-24T20:59:40.034713Z",
     "start_time": "2022-04-24T20:59:40.034713Z"
    }
   },
   "outputs": [],
   "source": [
    "print( 'Training Min Date {}'.format( X_train['date'].min() ) )\n",
    "print( 'Training Max Date {}'.format( X_train['date'].max() ) )\n",
    "\n",
    "print( '\\nTest Min Date {}'.format( X_test['date'].min() ) )\n",
    "print( 'Test Max Date {}'.format( X_test['date'].max() ) )"
   ]
  },
  {
   "cell_type": "markdown",
   "id": "bc7d3fb8",
   "metadata": {},
   "source": [
    "## 6.2. Boruta as feature selector"
   ]
  },
  {
   "cell_type": "code",
   "execution_count": null,
   "id": "832a7685",
   "metadata": {
    "ExecuteTime": {
     "end_time": "2022-04-24T20:59:40.036712Z",
     "start_time": "2022-04-24T20:59:40.036712Z"
    }
   },
   "outputs": [],
   "source": [
    "X_train.drop( ['date', 'sales'], axis=1).values"
   ]
  },
  {
   "cell_type": "code",
   "execution_count": null,
   "id": "c3b4e100",
   "metadata": {
    "ExecuteTime": {
     "end_time": "2022-04-24T20:59:40.038709Z",
     "start_time": "2022-04-24T20:59:40.038709Z"
    }
   },
   "outputs": [],
   "source": [
    "# Training and test dataset for Boruta\n",
    "X_train_n = X_train.drop( ['date', 'sales'], axis=1 ).values\n",
    "Y_train_n = Y_train.values.ravel()\n",
    "\n",
    "# Define RandomForestRegressor\n",
    "rf = RandomForestRegressor( n_jobs=-1 )"
   ]
  },
  {
   "cell_type": "markdown",
   "id": "14abcc8e",
   "metadata": {
    "ExecuteTime": {
     "end_time": "2022-04-21T20:18:21.152648Z",
     "start_time": "2022-04-21T20:18:21.065370Z"
    }
   },
   "source": [
    "**Como Boruta demora de 4 a 5 horas para executar vou deixar comentado e usando apenas o resultado que foi obtido na execução**"
   ]
  },
  {
   "cell_type": "code",
   "execution_count": null,
   "id": "ceecbf5d",
   "metadata": {
    "ExecuteTime": {
     "end_time": "2022-04-24T20:59:40.039717Z",
     "start_time": "2022-04-24T20:59:40.039717Z"
    }
   },
   "outputs": [],
   "source": [
    "# boruta = BorutaPy( rf, n_estimators='auto', verbose=2, random_state=42 ).fit( X_train_n, X_train_n )"
   ]
  },
  {
   "cell_type": "markdown",
   "id": "4953f787",
   "metadata": {},
   "source": [
    "### 6.2.1.  Best Features from Boruta"
   ]
  },
  {
   "cell_type": "code",
   "execution_count": null,
   "id": "84a2f3fe",
   "metadata": {
    "ExecuteTime": {
     "end_time": "2022-04-24T20:59:40.041823Z",
     "start_time": "2022-04-24T20:59:40.041823Z"
    }
   },
   "outputs": [],
   "source": [
    "# cols_selected = boruta.support_.tolist()\n",
    "\n",
    "# # Best Features\n",
    "# x_train_sf = X_train.drop( ['date', 'sales'], axis=1 ).values\n",
    "# cols_selected_boruta = x_train_fs.iloc[:, cols_selected].columns.tolist()\n",
    "\n",
    "# # Not selected boruta\n",
    "# cols_not_selected_boruta = list( np.setdiff1d( x_train_fs.columns, cols_selected_boruta ) )"
   ]
  },
  {
   "cell_type": "markdown",
   "id": "e1aa2ae0",
   "metadata": {},
   "source": [
    "### 6.3.  Manual Feature Selection"
   ]
  },
  {
   "cell_type": "code",
   "execution_count": null,
   "id": "eed0be49",
   "metadata": {
    "ExecuteTime": {
     "end_time": "2022-04-24T20:59:40.042709Z",
     "start_time": "2022-04-24T20:59:40.042709Z"
    }
   },
   "outputs": [],
   "source": [
    "cols_selected_boruta = [\n",
    "    'store',\n",
    "    'promo',\n",
    "    'store_type',\n",
    "    'assortment',\n",
    "    'competition_distance',\n",
    "    'competition_open_since_month',\n",
    "    'competition_open_since_year',\n",
    "    'promo2',\n",
    "    'promo2_since_week',\n",
    "    'promo2_since_year',\n",
    "    'competition_time_month',\n",
    "    'promo_time_week',\n",
    "    'day_of_week_sin',\n",
    "    'day_of_week_cos',\n",
    "    'month_sin',\n",
    "    'month_cos',\n",
    "    'day_sin',\n",
    "    'day_cos',\n",
    "    'week_of_year_sin',\n",
    "    'week_of_year_cos']\n",
    "\n",
    "# columns to add\n",
    "feat_to_add = ['date', 'sales']\n",
    "\n",
    "# Final features\n",
    "cols_selected_boruta_full = cols_selected_boruta.copy()\n",
    "cols_selected_boruta_full.extend( feat_to_add )"
   ]
  },
  {
   "cell_type": "markdown",
   "id": "6f747647",
   "metadata": {},
   "source": [
    "# 7.0. PASSO 07 - MACHINE LEARNING MODELLING"
   ]
  },
  {
   "cell_type": "code",
   "execution_count": 107,
   "id": "7dfb672c",
   "metadata": {
    "ExecuteTime": {
     "end_time": "2022-04-24T20:59:47.259532Z",
     "start_time": "2022-04-24T20:59:47.131741Z"
    }
   },
   "outputs": [],
   "source": [
    "x_train = X_train[ cols_selected_boruta ]\n",
    "x_test = X_test[ cols_selected_boruta ]\n",
    "\n",
    "# Time Series Data Preparation\n",
    "x_training = X_train[ cols_selected_boruta_full ]"
   ]
  },
  {
   "cell_type": "markdown",
   "id": "085c4013",
   "metadata": {},
   "source": [
    "## 7.1. Average Model"
   ]
  },
  {
   "cell_type": "code",
   "execution_count": 108,
   "id": "0556f7c6",
   "metadata": {
    "ExecuteTime": {
     "end_time": "2022-04-24T20:59:50.072943Z",
     "start_time": "2022-04-24T20:59:50.019686Z"
    }
   },
   "outputs": [
    {
     "data": {
      "text/html": [
       "<div>\n",
       "<style scoped>\n",
       "    .dataframe tbody tr th:only-of-type {\n",
       "        vertical-align: middle;\n",
       "    }\n",
       "\n",
       "    .dataframe tbody tr th {\n",
       "        vertical-align: top;\n",
       "    }\n",
       "\n",
       "    .dataframe thead th {\n",
       "        text-align: right;\n",
       "    }\n",
       "</style>\n",
       "<table border=\"1\" class=\"dataframe\">\n",
       "  <thead>\n",
       "    <tr style=\"text-align: right;\">\n",
       "      <th></th>\n",
       "      <th>Model Name</th>\n",
       "      <th>MAE</th>\n",
       "      <th>MAPE</th>\n",
       "      <th>RMSE</th>\n",
       "    </tr>\n",
       "  </thead>\n",
       "  <tbody>\n",
       "    <tr>\n",
       "      <th>0</th>\n",
       "      <td>Average Model</td>\n",
       "      <td>1354.800353</td>\n",
       "      <td>0.2064</td>\n",
       "      <td>1835.135542</td>\n",
       "    </tr>\n",
       "  </tbody>\n",
       "</table>\n",
       "</div>"
      ],
      "text/plain": [
       "      Model Name          MAE    MAPE         RMSE\n",
       "0  Average Model  1354.800353  0.2064  1835.135542"
      ]
     },
     "execution_count": 108,
     "metadata": {},
     "output_type": "execute_result"
    }
   ],
   "source": [
    "aux1 = x_test.copy()\n",
    "aux1['sales'] = y_test.copy()\n",
    "\n",
    "# prediction\n",
    "aux2 = aux1[['store', 'sales']].groupby( 'store' ).mean().reset_index().rename( columns={'sales': 'predictions'} )\n",
    "aux1 = pd.merge( aux1, aux2, how='left', on='store' )\n",
    "yhat_baseline = aux1['predictions']\n",
    "\n",
    "# performance\n",
    "baseline_result = ml_error( 'Average Model', np.expm1( y_test ), np.expm1( yhat_baseline ) )\n",
    "baseline_result"
   ]
  },
  {
   "cell_type": "markdown",
   "id": "60c612b3",
   "metadata": {},
   "source": [
    "## 7.2. Linear Regression Model"
   ]
  },
  {
   "cell_type": "code",
   "execution_count": 82,
   "id": "aafa99bf",
   "metadata": {
    "ExecuteTime": {
     "end_time": "2022-04-24T19:42:51.897483Z",
     "start_time": "2022-04-24T19:42:51.236980Z"
    }
   },
   "outputs": [
    {
     "data": {
      "text/html": [
       "<div>\n",
       "<style scoped>\n",
       "    .dataframe tbody tr th:only-of-type {\n",
       "        vertical-align: middle;\n",
       "    }\n",
       "\n",
       "    .dataframe tbody tr th {\n",
       "        vertical-align: top;\n",
       "    }\n",
       "\n",
       "    .dataframe thead th {\n",
       "        text-align: right;\n",
       "    }\n",
       "</style>\n",
       "<table border=\"1\" class=\"dataframe\">\n",
       "  <thead>\n",
       "    <tr style=\"text-align: right;\">\n",
       "      <th></th>\n",
       "      <th>Model Name</th>\n",
       "      <th>MAE</th>\n",
       "      <th>MAPE</th>\n",
       "      <th>RMSE</th>\n",
       "    </tr>\n",
       "  </thead>\n",
       "  <tbody>\n",
       "    <tr>\n",
       "      <th>0</th>\n",
       "      <td>Linear Regression</td>\n",
       "      <td>1867.089774</td>\n",
       "      <td>0.292694</td>\n",
       "      <td>2671.049215</td>\n",
       "    </tr>\n",
       "  </tbody>\n",
       "</table>\n",
       "</div>"
      ],
      "text/plain": [
       "          Model Name          MAE      MAPE         RMSE\n",
       "0  Linear Regression  1867.089774  0.292694  2671.049215"
      ]
     },
     "execution_count": 82,
     "metadata": {},
     "output_type": "execute_result"
    }
   ],
   "source": [
    "# model\n",
    "lr = LinearRegression().fit( x_train, y_train )\n",
    "\n",
    "# prediction\n",
    "yhat_lr = lr.predict( x_test )\n",
    "## 7.2. Linear Regression Model\n",
    "# Performance\n",
    "lr_result = ml_error( 'Linear Regression', np.expm1( y_test ), np.expm1( yhat_lr ))\n",
    "lr_result"
   ]
  },
  {
   "cell_type": "markdown",
   "id": "9f05e9ed",
   "metadata": {},
   "source": [
    "## 7.2.1. Linear Regression Model - Cross validation"
   ]
  },
  {
   "cell_type": "code",
   "execution_count": 83,
   "id": "15f33074",
   "metadata": {
    "ExecuteTime": {
     "end_time": "2022-04-24T19:43:02.262573Z",
     "start_time": "2022-04-24T19:42:58.660583Z"
    }
   },
   "outputs": [
    {
     "data": {
      "text/html": [
       "<div>\n",
       "<style scoped>\n",
       "    .dataframe tbody tr th:only-of-type {\n",
       "        vertical-align: middle;\n",
       "    }\n",
       "\n",
       "    .dataframe tbody tr th {\n",
       "        vertical-align: top;\n",
       "    }\n",
       "\n",
       "    .dataframe thead th {\n",
       "        text-align: right;\n",
       "    }\n",
       "</style>\n",
       "<table border=\"1\" class=\"dataframe\">\n",
       "  <thead>\n",
       "    <tr style=\"text-align: right;\">\n",
       "      <th></th>\n",
       "      <th>Model Name</th>\n",
       "      <th>MAE CV</th>\n",
       "      <th>MAPE CV</th>\n",
       "      <th>RMSE CV</th>\n",
       "    </tr>\n",
       "  </thead>\n",
       "  <tbody>\n",
       "    <tr>\n",
       "      <th>0</th>\n",
       "      <td>Linear Regression</td>\n",
       "      <td>2081.73 +/- 295.63</td>\n",
       "      <td>0.3 +/- 0.02</td>\n",
       "      <td>2952.52 +/- 468.37</td>\n",
       "    </tr>\n",
       "  </tbody>\n",
       "</table>\n",
       "</div>"
      ],
      "text/plain": [
       "          Model Name              MAE CV       MAPE CV             RMSE CV\n",
       "0  Linear Regression  2081.73 +/- 295.63  0.3 +/- 0.02  2952.52 +/- 468.37"
      ]
     },
     "execution_count": 83,
     "metadata": {},
     "output_type": "execute_result"
    }
   ],
   "source": [
    "lr_result_cv = cross_validation( x_training, 5, 'Linear Regression', lr, verbose=False)\n",
    "lr_result_cv"
   ]
  },
  {
   "cell_type": "markdown",
   "id": "d06ac37c",
   "metadata": {},
   "source": [
    "## 7.3. Linear Regression Regularized Model - Lasso"
   ]
  },
  {
   "cell_type": "code",
   "execution_count": 84,
   "id": "d58ced84",
   "metadata": {
    "ExecuteTime": {
     "end_time": "2022-04-24T19:43:03.040474Z",
     "start_time": "2022-04-24T19:43:02.264661Z"
    }
   },
   "outputs": [
    {
     "data": {
      "text/html": [
       "<div>\n",
       "<style scoped>\n",
       "    .dataframe tbody tr th:only-of-type {\n",
       "        vertical-align: middle;\n",
       "    }\n",
       "\n",
       "    .dataframe tbody tr th {\n",
       "        vertical-align: top;\n",
       "    }\n",
       "\n",
       "    .dataframe thead th {\n",
       "        text-align: right;\n",
       "    }\n",
       "</style>\n",
       "<table border=\"1\" class=\"dataframe\">\n",
       "  <thead>\n",
       "    <tr style=\"text-align: right;\">\n",
       "      <th></th>\n",
       "      <th>Model Name</th>\n",
       "      <th>MAE</th>\n",
       "      <th>MAPE</th>\n",
       "      <th>RMSE</th>\n",
       "    </tr>\n",
       "  </thead>\n",
       "  <tbody>\n",
       "    <tr>\n",
       "      <th>0</th>\n",
       "      <td>Linear Regression - Lasso</td>\n",
       "      <td>1867.143498</td>\n",
       "      <td>0.289627</td>\n",
       "      <td>2683.031638</td>\n",
       "    </tr>\n",
       "  </tbody>\n",
       "</table>\n",
       "</div>"
      ],
      "text/plain": [
       "                  Model Name          MAE      MAPE         RMSE\n",
       "0  Linear Regression - Lasso  1867.143498  0.289627  2683.031638"
      ]
     },
     "execution_count": 84,
     "metadata": {},
     "output_type": "execute_result"
    }
   ],
   "source": [
    "# model\n",
    "lrr = Lasso( alpha=0.01 ).fit( x_train, y_train )\n",
    "\n",
    "# prediction\n",
    "yhat_lrr = lr.predict( x_test )\n",
    "\n",
    "# Performance\n",
    "lrr_result = ml_error( 'Linear Regression - Lasso', np.expm1( y_test ), np.expm1( yhat_lrr ))\n",
    "lrr_result"
   ]
  },
  {
   "cell_type": "markdown",
   "id": "60c612b2",
   "metadata": {},
   "source": [
    "## 7.3.1. Lasso - Cross validation"
   ]
  },
  {
   "cell_type": "code",
   "execution_count": 85,
   "id": "de6e76ba",
   "metadata": {
    "ExecuteTime": {
     "end_time": "2022-04-24T19:43:06.738113Z",
     "start_time": "2022-04-24T19:43:03.043367Z"
    },
    "scrolled": true
   },
   "outputs": [
    {
     "data": {
      "text/html": [
       "<div>\n",
       "<style scoped>\n",
       "    .dataframe tbody tr th:only-of-type {\n",
       "        vertical-align: middle;\n",
       "    }\n",
       "\n",
       "    .dataframe tbody tr th {\n",
       "        vertical-align: top;\n",
       "    }\n",
       "\n",
       "    .dataframe thead th {\n",
       "        text-align: right;\n",
       "    }\n",
       "</style>\n",
       "<table border=\"1\" class=\"dataframe\">\n",
       "  <thead>\n",
       "    <tr style=\"text-align: right;\">\n",
       "      <th></th>\n",
       "      <th>Model Name</th>\n",
       "      <th>MAE CV</th>\n",
       "      <th>MAPE CV</th>\n",
       "      <th>RMSE CV</th>\n",
       "    </tr>\n",
       "  </thead>\n",
       "  <tbody>\n",
       "    <tr>\n",
       "      <th>0</th>\n",
       "      <td>Lasso</td>\n",
       "      <td>2116.38 +/- 341.5</td>\n",
       "      <td>0.29 +/- 0.01</td>\n",
       "      <td>3057.75 +/- 504.26</td>\n",
       "    </tr>\n",
       "  </tbody>\n",
       "</table>\n",
       "</div>"
      ],
      "text/plain": [
       "  Model Name             MAE CV        MAPE CV             RMSE CV\n",
       "0      Lasso  2116.38 +/- 341.5  0.29 +/- 0.01  3057.75 +/- 504.26"
      ]
     },
     "execution_count": 85,
     "metadata": {},
     "output_type": "execute_result"
    }
   ],
   "source": [
    "lrr_result_cv = cross_validation( x_training, 5, 'Lasso', lrr, verbose=False)\n",
    "lrr_result_cv"
   ]
  },
  {
   "cell_type": "markdown",
   "id": "b5b075df",
   "metadata": {},
   "source": [
    "## 7.4. Random Forest Regressor"
   ]
  },
  {
   "cell_type": "code",
   "execution_count": 86,
   "id": "91ba08f9",
   "metadata": {
    "ExecuteTime": {
     "end_time": "2022-04-24T19:47:44.002973Z",
     "start_time": "2022-04-24T19:43:06.741110Z"
    }
   },
   "outputs": [
    {
     "data": {
      "text/html": [
       "<div>\n",
       "<style scoped>\n",
       "    .dataframe tbody tr th:only-of-type {\n",
       "        vertical-align: middle;\n",
       "    }\n",
       "\n",
       "    .dataframe tbody tr th {\n",
       "        vertical-align: top;\n",
       "    }\n",
       "\n",
       "    .dataframe thead th {\n",
       "        text-align: right;\n",
       "    }\n",
       "</style>\n",
       "<table border=\"1\" class=\"dataframe\">\n",
       "  <thead>\n",
       "    <tr style=\"text-align: right;\">\n",
       "      <th></th>\n",
       "      <th>Model Name</th>\n",
       "      <th>MAE</th>\n",
       "      <th>MAPE</th>\n",
       "      <th>RMSE</th>\n",
       "    </tr>\n",
       "  </thead>\n",
       "  <tbody>\n",
       "    <tr>\n",
       "      <th>0</th>\n",
       "      <td>Random Forest Regressor</td>\n",
       "      <td>679.598831</td>\n",
       "      <td>0.099913</td>\n",
       "      <td>1011.119437</td>\n",
       "    </tr>\n",
       "  </tbody>\n",
       "</table>\n",
       "</div>"
      ],
      "text/plain": [
       "                Model Name         MAE      MAPE         RMSE\n",
       "0  Random Forest Regressor  679.598831  0.099913  1011.119437"
      ]
     },
     "execution_count": 86,
     "metadata": {},
     "output_type": "execute_result"
    }
   ],
   "source": [
    "# model\n",
    "rf = RandomForestRegressor( n_estimators=100, n_jobs=-1, random_state=42 ).fit( x_train, y_train )\n",
    "\n",
    "# prediction\n",
    "yhat_rf = rf.predict( x_test )\n",
    "\n",
    "# Performance\n",
    "rf_result = ml_error( 'Random Forest Regressor', np.expm1( y_test ), np.expm1( yhat_rf ))\n",
    "rf_result"
   ]
  },
  {
   "cell_type": "markdown",
   "id": "60c612b1",
   "metadata": {},
   "source": [
    "## 7.4.1. Random Forest Regressor - Cross validation"
   ]
  },
  {
   "cell_type": "code",
   "execution_count": 92,
   "id": "e0458a94",
   "metadata": {
    "ExecuteTime": {
     "end_time": "2022-04-24T20:44:01.352192Z",
     "start_time": "2022-04-24T20:27:18.723705Z"
    },
    "scrolled": true
   },
   "outputs": [
    {
     "name": "stdout",
     "output_type": "stream",
     "text": [
      "\n",
      "KFold Number: 5\n",
      "\n",
      "KFold Number: 4\n",
      "\n",
      "KFold Number: 3\n",
      "\n",
      "KFold Number: 2\n",
      "\n",
      "KFold Number: 1\n"
     ]
    },
    {
     "data": {
      "text/html": [
       "<div>\n",
       "<style scoped>\n",
       "    .dataframe tbody tr th:only-of-type {\n",
       "        vertical-align: middle;\n",
       "    }\n",
       "\n",
       "    .dataframe tbody tr th {\n",
       "        vertical-align: top;\n",
       "    }\n",
       "\n",
       "    .dataframe thead th {\n",
       "        text-align: right;\n",
       "    }\n",
       "</style>\n",
       "<table border=\"1\" class=\"dataframe\">\n",
       "  <thead>\n",
       "    <tr style=\"text-align: right;\">\n",
       "      <th></th>\n",
       "      <th>Model Name</th>\n",
       "      <th>MAE CV</th>\n",
       "      <th>MAPE CV</th>\n",
       "      <th>RMSE CV</th>\n",
       "    </tr>\n",
       "  </thead>\n",
       "  <tbody>\n",
       "    <tr>\n",
       "      <th>0</th>\n",
       "      <td>Random Forest Regressor</td>\n",
       "      <td>836.61 +/- 217.1</td>\n",
       "      <td>0.12 +/- 0.02</td>\n",
       "      <td>1254.3 +/- 316.17</td>\n",
       "    </tr>\n",
       "  </tbody>\n",
       "</table>\n",
       "</div>"
      ],
      "text/plain": [
       "                Model Name            MAE CV        MAPE CV            RMSE CV\n",
       "0  Random Forest Regressor  836.61 +/- 217.1  0.12 +/- 0.02  1254.3 +/- 316.17"
      ]
     },
     "execution_count": 92,
     "metadata": {},
     "output_type": "execute_result"
    }
   ],
   "source": [
    "rf_result_cv = cross_validation( x_training, 5, 'Random Forest Regressor', rf, verbose=True)\n",
    "rf_result_cv"
   ]
  },
  {
   "cell_type": "markdown",
   "id": "2abf8951",
   "metadata": {},
   "source": [
    "## 7.5. XGBoost Regressor"
   ]
  },
  {
   "cell_type": "code",
   "execution_count": 109,
   "id": "46038b6e",
   "metadata": {
    "ExecuteTime": {
     "end_time": "2022-04-24T21:04:27.198028Z",
     "start_time": "2022-04-24T21:02:57.036144Z"
    }
   },
   "outputs": [
    {
     "data": {
      "text/html": [
       "<div>\n",
       "<style scoped>\n",
       "    .dataframe tbody tr th:only-of-type {\n",
       "        vertical-align: middle;\n",
       "    }\n",
       "\n",
       "    .dataframe tbody tr th {\n",
       "        vertical-align: top;\n",
       "    }\n",
       "\n",
       "    .dataframe thead th {\n",
       "        text-align: right;\n",
       "    }\n",
       "</style>\n",
       "<table border=\"1\" class=\"dataframe\">\n",
       "  <thead>\n",
       "    <tr style=\"text-align: right;\">\n",
       "      <th></th>\n",
       "      <th>Model Name</th>\n",
       "      <th>MAE</th>\n",
       "      <th>MAPE</th>\n",
       "      <th>RMSE</th>\n",
       "    </tr>\n",
       "  </thead>\n",
       "  <tbody>\n",
       "    <tr>\n",
       "      <th>0</th>\n",
       "      <td>XGBoost Regressor</td>\n",
       "      <td>6683.423528</td>\n",
       "      <td>0.949439</td>\n",
       "      <td>7330.693347</td>\n",
       "    </tr>\n",
       "  </tbody>\n",
       "</table>\n",
       "</div>"
      ],
      "text/plain": [
       "          Model Name          MAE      MAPE         RMSE\n",
       "0  XGBoost Regressor  6683.423528  0.949439  7330.693347"
      ]
     },
     "execution_count": 109,
     "metadata": {},
     "output_type": "execute_result"
    }
   ],
   "source": [
    "# model\n",
    "model_xgb = xgb.XGBRegressor( objective='reg:squarederror',\n",
    "                              n_estimators=100,\n",
    "                              eta=0.01,\n",
    "                              max_depth=10,\n",
    "                              subsample=0.7,\n",
    "                              colsample_bytree=0.9 ).fit( x_train, y_train )\n",
    "\n",
    "# prediction\n",
    "yhat_xgb = model_xgb.predict( x_test )\n",
    "\n",
    "# Performance\n",
    "xgb_result = ml_error( 'XGBoost Regressor', np.expm1( y_test ), np.expm1( yhat_xgb ))\n",
    "xgb_result"
   ]
  },
  {
   "cell_type": "markdown",
   "id": "60c612b6",
   "metadata": {},
   "source": [
    "## 7.5.1. XGBoost Regressor - Cross validation"
   ]
  },
  {
   "cell_type": "code",
   "execution_count": 89,
   "id": "177e764a",
   "metadata": {
    "ExecuteTime": {
     "end_time": "2022-04-24T20:11:52.254311Z",
     "start_time": "2022-04-24T20:06:13.168347Z"
    },
    "scrolled": true
   },
   "outputs": [
    {
     "name": "stdout",
     "output_type": "stream",
     "text": [
      "\n",
      "KFold Number: 5\n",
      "\n",
      "KFold Number: 4\n",
      "\n",
      "KFold Number: 3\n",
      "\n",
      "KFold Number: 2\n",
      "\n",
      "KFold Number: 1\n"
     ]
    },
    {
     "data": {
      "text/html": [
       "<div>\n",
       "<style scoped>\n",
       "    .dataframe tbody tr th:only-of-type {\n",
       "        vertical-align: middle;\n",
       "    }\n",
       "\n",
       "    .dataframe tbody tr th {\n",
       "        vertical-align: top;\n",
       "    }\n",
       "\n",
       "    .dataframe thead th {\n",
       "        text-align: right;\n",
       "    }\n",
       "</style>\n",
       "<table border=\"1\" class=\"dataframe\">\n",
       "  <thead>\n",
       "    <tr style=\"text-align: right;\">\n",
       "      <th></th>\n",
       "      <th>Model Name</th>\n",
       "      <th>MAE CV</th>\n",
       "      <th>MAPE CV</th>\n",
       "      <th>RMSE CV</th>\n",
       "    </tr>\n",
       "  </thead>\n",
       "  <tbody>\n",
       "    <tr>\n",
       "      <th>0</th>\n",
       "      <td>XGBoost Regressor</td>\n",
       "      <td>7049.2 +/- 588.65</td>\n",
       "      <td>0.95 +/- 0.0</td>\n",
       "      <td>7715.2 +/- 689.51</td>\n",
       "    </tr>\n",
       "  </tbody>\n",
       "</table>\n",
       "</div>"
      ],
      "text/plain": [
       "          Model Name             MAE CV       MAPE CV            RMSE CV\n",
       "0  XGBoost Regressor  7049.2 +/- 588.65  0.95 +/- 0.0  7715.2 +/- 689.51"
      ]
     },
     "execution_count": 89,
     "metadata": {},
     "output_type": "execute_result"
    }
   ],
   "source": [
    "xgb_result_cv = cross_validation( x_training, 5, 'XGBoost Regressor', model_xgb, verbose=True)\n",
    "xgb_result_cv"
   ]
  },
  {
   "cell_type": "markdown",
   "id": "ff0aa08d",
   "metadata": {
    "ExecuteTime": {
     "end_time": "2022-04-24T13:25:19.211251Z",
     "start_time": "2022-04-24T13:25:19.198250Z"
    }
   },
   "source": [
    "## 7.6. Compare Model's Performance"
   ]
  },
  {
   "cell_type": "markdown",
   "id": "a3be966d",
   "metadata": {
    "ExecuteTime": {
     "end_time": "2022-04-24T15:00:58.691800Z",
     "start_time": "2022-04-24T15:00:58.679035Z"
    }
   },
   "source": [
    "### 7.6.1. Single Performance"
   ]
  },
  {
   "cell_type": "code",
   "execution_count": 90,
   "id": "314143f4",
   "metadata": {
    "ExecuteTime": {
     "end_time": "2022-04-24T20:11:52.284901Z",
     "start_time": "2022-04-24T20:11:52.257648Z"
    },
    "scrolled": true
   },
   "outputs": [
    {
     "data": {
      "text/html": [
       "<div>\n",
       "<style scoped>\n",
       "    .dataframe tbody tr th:only-of-type {\n",
       "        vertical-align: middle;\n",
       "    }\n",
       "\n",
       "    .dataframe tbody tr th {\n",
       "        vertical-align: top;\n",
       "    }\n",
       "\n",
       "    .dataframe thead th {\n",
       "        text-align: right;\n",
       "    }\n",
       "</style>\n",
       "<table border=\"1\" class=\"dataframe\">\n",
       "  <thead>\n",
       "    <tr style=\"text-align: right;\">\n",
       "      <th></th>\n",
       "      <th>Model Name</th>\n",
       "      <th>MAE</th>\n",
       "      <th>MAPE</th>\n",
       "      <th>RMSE</th>\n",
       "    </tr>\n",
       "  </thead>\n",
       "  <tbody>\n",
       "    <tr>\n",
       "      <th>0</th>\n",
       "      <td>Random Forest Regressor</td>\n",
       "      <td>679.598831</td>\n",
       "      <td>0.099913</td>\n",
       "      <td>1011.119437</td>\n",
       "    </tr>\n",
       "    <tr>\n",
       "      <th>0</th>\n",
       "      <td>Average Model</td>\n",
       "      <td>1354.800353</td>\n",
       "      <td>0.206400</td>\n",
       "      <td>1835.135542</td>\n",
       "    </tr>\n",
       "    <tr>\n",
       "      <th>0</th>\n",
       "      <td>Linear Regression</td>\n",
       "      <td>1867.089774</td>\n",
       "      <td>0.292694</td>\n",
       "      <td>2671.049215</td>\n",
       "    </tr>\n",
       "    <tr>\n",
       "      <th>0</th>\n",
       "      <td>Linear Regression - Lasso</td>\n",
       "      <td>1867.143498</td>\n",
       "      <td>0.289627</td>\n",
       "      <td>2683.031638</td>\n",
       "    </tr>\n",
       "    <tr>\n",
       "      <th>0</th>\n",
       "      <td>XGBoost Regressor</td>\n",
       "      <td>6683.423528</td>\n",
       "      <td>0.949439</td>\n",
       "      <td>7330.693347</td>\n",
       "    </tr>\n",
       "  </tbody>\n",
       "</table>\n",
       "</div>"
      ],
      "text/plain": [
       "                  Model Name          MAE      MAPE         RMSE\n",
       "0    Random Forest Regressor   679.598831  0.099913  1011.119437\n",
       "0              Average Model  1354.800353  0.206400  1835.135542\n",
       "0          Linear Regression  1867.089774  0.292694  2671.049215\n",
       "0  Linear Regression - Lasso  1867.143498  0.289627  2683.031638\n",
       "0          XGBoost Regressor  6683.423528  0.949439  7330.693347"
      ]
     },
     "execution_count": 90,
     "metadata": {},
     "output_type": "execute_result"
    }
   ],
   "source": [
    "modelling_result = pd.concat( [baseline_result, lr_result, lrr_result, rf_result, xgb_result] )\n",
    "modelling_result.sort_values( 'RMSE' )"
   ]
  },
  {
   "cell_type": "markdown",
   "id": "01cfb138",
   "metadata": {},
   "source": [
    "### 7.6.2. Real Performance - Cross Validation"
   ]
  },
  {
   "cell_type": "code",
   "execution_count": 93,
   "id": "ae6d1b33",
   "metadata": {
    "ExecuteTime": {
     "end_time": "2022-04-24T20:44:16.340090Z",
     "start_time": "2022-04-24T20:44:16.319338Z"
    }
   },
   "outputs": [
    {
     "data": {
      "text/html": [
       "<div>\n",
       "<style scoped>\n",
       "    .dataframe tbody tr th:only-of-type {\n",
       "        vertical-align: middle;\n",
       "    }\n",
       "\n",
       "    .dataframe tbody tr th {\n",
       "        vertical-align: top;\n",
       "    }\n",
       "\n",
       "    .dataframe thead th {\n",
       "        text-align: right;\n",
       "    }\n",
       "</style>\n",
       "<table border=\"1\" class=\"dataframe\">\n",
       "  <thead>\n",
       "    <tr style=\"text-align: right;\">\n",
       "      <th></th>\n",
       "      <th>Model Name</th>\n",
       "      <th>MAE CV</th>\n",
       "      <th>MAPE CV</th>\n",
       "      <th>RMSE CV</th>\n",
       "    </tr>\n",
       "  </thead>\n",
       "  <tbody>\n",
       "    <tr>\n",
       "      <th>0</th>\n",
       "      <td>Linear Regression</td>\n",
       "      <td>2081.73 +/- 295.63</td>\n",
       "      <td>0.3 +/- 0.02</td>\n",
       "      <td>2952.52 +/- 468.37</td>\n",
       "    </tr>\n",
       "    <tr>\n",
       "      <th>0</th>\n",
       "      <td>Random Forest Regressor</td>\n",
       "      <td>836.61 +/- 217.1</td>\n",
       "      <td>0.12 +/- 0.02</td>\n",
       "      <td>1254.3 +/- 316.17</td>\n",
       "    </tr>\n",
       "    <tr>\n",
       "      <th>0</th>\n",
       "      <td>Random Forest Regressor</td>\n",
       "      <td>836.61 +/- 217.1</td>\n",
       "      <td>0.12 +/- 0.02</td>\n",
       "      <td>1254.3 +/- 316.17</td>\n",
       "    </tr>\n",
       "    <tr>\n",
       "      <th>0</th>\n",
       "      <td>XGBoost Regressor</td>\n",
       "      <td>7049.2 +/- 588.65</td>\n",
       "      <td>0.95 +/- 0.0</td>\n",
       "      <td>7715.2 +/- 689.51</td>\n",
       "    </tr>\n",
       "  </tbody>\n",
       "</table>\n",
       "</div>"
      ],
      "text/plain": [
       "                Model Name              MAE CV        MAPE CV             RMSE CV\n",
       "0        Linear Regression  2081.73 +/- 295.63   0.3 +/- 0.02  2952.52 +/- 468.37\n",
       "0  Random Forest Regressor    836.61 +/- 217.1  0.12 +/- 0.02   1254.3 +/- 316.17\n",
       "0  Random Forest Regressor    836.61 +/- 217.1  0.12 +/- 0.02   1254.3 +/- 316.17\n",
       "0        XGBoost Regressor   7049.2 +/- 588.65   0.95 +/- 0.0   7715.2 +/- 689.51"
      ]
     },
     "execution_count": 93,
     "metadata": {},
     "output_type": "execute_result"
    }
   ],
   "source": [
    "modelling_result_cv = pd.concat( [lr_result_cv, lrr_result_cv, rf_result_cv, xgb_result_cv] )\n",
    "modelling_result_cv"
   ]
  }
 ],
 "metadata": {
  "kernelspec": {
   "display_name": "Python 3 (ipykernel)",
   "language": "python",
   "name": "python3"
  },
  "language_info": {
   "codemirror_mode": {
    "name": "ipython",
    "version": 3
   },
   "file_extension": ".py",
   "mimetype": "text/x-python",
   "name": "python",
   "nbconvert_exporter": "python",
   "pygments_lexer": "ipython3",
   "version": "3.8.12"
  }
 },
 "nbformat": 4,
 "nbformat_minor": 5
}
